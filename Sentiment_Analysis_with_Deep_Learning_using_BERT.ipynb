{
  "cells": [
    {
      "cell_type": "markdown",
      "metadata": {
        "id": "Fhquv-GVkQ7m"
      },
      "source": [
        "# Sentiment Analysis with Deep Learning using BERT"
      ]
    },
    {
      "cell_type": "markdown",
      "metadata": {
        "id": "q7QxA1D5kQ7s"
      },
      "source": [
        "### Project Outline"
      ]
    },
    {
      "cell_type": "markdown",
      "metadata": {
        "id": "ndfZHw7IkQ7s"
      },
      "source": [
        "**Task 1**: Introduction\n",
        "\n",
        "**Task 2**: Exploratory Data Analysis and Preprocessing\n",
        "\n",
        "**Task 3**: Training/Validation Split\n",
        "\n",
        "**Task 4**: Loading Tokenizer and Encoding our Data\n",
        "\n",
        "**Task 5**: Setting up BERT Pretrained Model\n",
        "\n",
        "**Task 6**: Creating Data Loaders\n",
        "\n",
        "**Task 7**: Setting Up Optimizer and Scheduler\n",
        "\n",
        "**Task 8**: Defining our Performance Metrics\n",
        "\n",
        "**Task 9**: Creating our Training Loop\n",
        "\n",
        "**Task 10**: Loading and Evaluating our Model"
      ]
    },
    {
      "cell_type": "markdown",
      "metadata": {
        "id": "2BTK8Q0mkQ7t"
      },
      "source": [
        "## Task 1: Introduction"
      ]
    },
    {
      "cell_type": "markdown",
      "metadata": {
        "id": "WrZ3GX91kQ7t"
      },
      "source": [
        "### What is BERT\n",
        "\n",
        "BERT is a large-scale transformer-based Language Model that can be finetuned for a variety of tasks.\n",
        "\n",
        "For more information, the original paper can be found [here](https://arxiv.org/abs/1810.04805).\n",
        "\n",
        "[HuggingFace documentation](https://huggingface.co/transformers/model_doc/bert.html)\n",
        "\n",
        "[Bert documentation](https://characters.fandom.com/wiki/Bert_(Sesame_Street)\n",
        "\n",
        "[SMILE Twitter dataset](https://doi.org/10.6084/m9.figshare.3187909.v2_)\n"
      ]
    },
    {
      "cell_type": "markdown",
      "metadata": {
        "id": "bCFtasyikQ7u"
      },
      "source": [
        "## Task 2: Exploratory Data Analysis and Preprocessing"
      ]
    },
    {
      "cell_type": "code",
      "source": [
        "!pip install pandas torch transformers scikit-learn\n"
      ],
      "metadata": {
        "colab": {
          "base_uri": "https://localhost:8080/"
        },
        "id": "n9hKQhFuz32s",
        "outputId": "5e11bf7e-8779-4b3e-f225-f523fef75755"
      },
      "execution_count": null,
      "outputs": [
        {
          "output_type": "stream",
          "name": "stdout",
          "text": [
            "Requirement already satisfied: pandas in /usr/local/lib/python3.10/dist-packages (2.1.4)\n",
            "Requirement already satisfied: torch in /usr/local/lib/python3.10/dist-packages (2.4.1+cu121)\n",
            "Requirement already satisfied: transformers in /usr/local/lib/python3.10/dist-packages (4.44.2)\n",
            "Requirement already satisfied: scikit-learn in /usr/local/lib/python3.10/dist-packages (1.5.2)\n",
            "Requirement already satisfied: numpy<2,>=1.22.4 in /usr/local/lib/python3.10/dist-packages (from pandas) (1.26.4)\n",
            "Requirement already satisfied: python-dateutil>=2.8.2 in /usr/local/lib/python3.10/dist-packages (from pandas) (2.8.2)\n",
            "Requirement already satisfied: pytz>=2020.1 in /usr/local/lib/python3.10/dist-packages (from pandas) (2024.2)\n",
            "Requirement already satisfied: tzdata>=2022.1 in /usr/local/lib/python3.10/dist-packages (from pandas) (2024.1)\n",
            "Requirement already satisfied: filelock in /usr/local/lib/python3.10/dist-packages (from torch) (3.16.1)\n",
            "Requirement already satisfied: typing-extensions>=4.8.0 in /usr/local/lib/python3.10/dist-packages (from torch) (4.12.2)\n",
            "Requirement already satisfied: sympy in /usr/local/lib/python3.10/dist-packages (from torch) (1.13.3)\n",
            "Requirement already satisfied: networkx in /usr/local/lib/python3.10/dist-packages (from torch) (3.3)\n",
            "Requirement already satisfied: jinja2 in /usr/local/lib/python3.10/dist-packages (from torch) (3.1.4)\n",
            "Requirement already satisfied: fsspec in /usr/local/lib/python3.10/dist-packages (from torch) (2024.6.1)\n",
            "Requirement already satisfied: huggingface-hub<1.0,>=0.23.2 in /usr/local/lib/python3.10/dist-packages (from transformers) (0.24.7)\n",
            "Requirement already satisfied: packaging>=20.0 in /usr/local/lib/python3.10/dist-packages (from transformers) (24.1)\n",
            "Requirement already satisfied: pyyaml>=5.1 in /usr/local/lib/python3.10/dist-packages (from transformers) (6.0.2)\n",
            "Requirement already satisfied: regex!=2019.12.17 in /usr/local/lib/python3.10/dist-packages (from transformers) (2024.9.11)\n",
            "Requirement already satisfied: requests in /usr/local/lib/python3.10/dist-packages (from transformers) (2.32.3)\n",
            "Requirement already satisfied: safetensors>=0.4.1 in /usr/local/lib/python3.10/dist-packages (from transformers) (0.4.5)\n",
            "Requirement already satisfied: tokenizers<0.20,>=0.19 in /usr/local/lib/python3.10/dist-packages (from transformers) (0.19.1)\n",
            "Requirement already satisfied: tqdm>=4.27 in /usr/local/lib/python3.10/dist-packages (from transformers) (4.66.5)\n",
            "Requirement already satisfied: scipy>=1.6.0 in /usr/local/lib/python3.10/dist-packages (from scikit-learn) (1.13.1)\n",
            "Requirement already satisfied: joblib>=1.2.0 in /usr/local/lib/python3.10/dist-packages (from scikit-learn) (1.4.2)\n",
            "Requirement already satisfied: threadpoolctl>=3.1.0 in /usr/local/lib/python3.10/dist-packages (from scikit-learn) (3.5.0)\n",
            "Requirement already satisfied: six>=1.5 in /usr/local/lib/python3.10/dist-packages (from python-dateutil>=2.8.2->pandas) (1.16.0)\n",
            "Requirement already satisfied: MarkupSafe>=2.0 in /usr/local/lib/python3.10/dist-packages (from jinja2->torch) (2.1.5)\n",
            "Requirement already satisfied: charset-normalizer<4,>=2 in /usr/local/lib/python3.10/dist-packages (from requests->transformers) (3.3.2)\n",
            "Requirement already satisfied: idna<4,>=2.5 in /usr/local/lib/python3.10/dist-packages (from requests->transformers) (3.10)\n",
            "Requirement already satisfied: urllib3<3,>=1.21.1 in /usr/local/lib/python3.10/dist-packages (from requests->transformers) (2.2.3)\n",
            "Requirement already satisfied: certifi>=2017.4.17 in /usr/local/lib/python3.10/dist-packages (from requests->transformers) (2024.8.30)\n",
            "Requirement already satisfied: mpmath<1.4,>=1.1.0 in /usr/local/lib/python3.10/dist-packages (from sympy->torch) (1.3.0)\n"
          ]
        }
      ]
    },
    {
      "cell_type": "code",
      "execution_count": null,
      "metadata": {
        "jupyter": {
          "outputs_hidden": true
        },
        "id": "K-eFV4gKkQ7u"
      },
      "outputs": [],
      "source": [
        "import torch\n",
        "import pandas as pd\n",
        "from tqdm.notebook import tqdm"
      ]
    },
    {
      "cell_type": "code",
      "execution_count": null,
      "metadata": {
        "collapsed": true,
        "jupyter": {
          "outputs_hidden": true
        },
        "colab": {
          "base_uri": "https://localhost:8080/"
        },
        "id": "DpGcFpWUkQ7v",
        "outputId": "c64b8684-cbf7-44e8-ef71-195196e5ecbb"
      },
      "outputs": [
        {
          "output_type": "stream",
          "name": "stdout",
          "text": [
            "                                                                 text category\n",
            "id                                                                            \n",
            "611857364396965889  @aandraous @britishmuseum @AndrewsAntonio Merc...   nocode\n",
            "614484565059596288  Dorian Gray with Rainbow Scarf #LoveWins (from...    happy\n",
            "614746522043973632  @SelectShowcase @Tate_StIves ... Replace with ...    happy\n",
            "614877582664835073  @Sofabsports thank you for following me back. ...    happy\n",
            "611932373039644672  @britishmuseum @TudorHistory What a beautiful ...    happy\n"
          ]
        }
      ],
      "source": [
        "# Load the dataset\n",
        "df = pd.read_csv('/content/smile-annotations-final.csv',\n",
        "                 names=['id', 'text', 'category'],\n",
        "                 engine='python')\n",
        "df.set_index('id', inplace=True)\n",
        "\n",
        "# Inspect the dataset\n",
        "print(df.head())\n"
      ]
    },
    {
      "cell_type": "code",
      "execution_count": null,
      "metadata": {
        "jupyter": {
          "outputs_hidden": true
        },
        "colab": {
          "base_uri": "https://localhost:8080/"
        },
        "id": "zH4CP-6QkQ7v",
        "outputId": "b62b4e99-f90d-4d0a-d6da-ff0330b4899f"
      },
      "outputs": [
        {
          "output_type": "execute_result",
          "data": {
            "text/plain": [
              "'@aandraous @britishmuseum @AndrewsAntonio Merci pour le partage! @openwinemap'"
            ],
            "application/vnd.google.colaboratory.intrinsic+json": {
              "type": "string"
            }
          },
          "metadata": {},
          "execution_count": 4
        }
      ],
      "source": [
        "df.text.iloc[0]"
      ]
    },
    {
      "cell_type": "code",
      "execution_count": null,
      "metadata": {
        "collapsed": true,
        "jupyter": {
          "outputs_hidden": true
        },
        "colab": {
          "base_uri": "https://localhost:8080/"
        },
        "id": "-5dCjauokQ7w",
        "outputId": "a0da377a-b7d0-42f7-d4a6-018fd5a4c72c"
      },
      "outputs": [
        {
          "output_type": "execute_result",
          "data": {
            "text/plain": [
              "category\n",
              "nocode               1572\n",
              "happy                1137\n",
              "not-relevant          214\n",
              "angry                  57\n",
              "surprise               35\n",
              "sad                    32\n",
              "happy|surprise         11\n",
              "happy|sad               9\n",
              "disgust|angry           7\n",
              "disgust                 6\n",
              "sad|disgust             2\n",
              "sad|angry               2\n",
              "sad|disgust|angry       1\n",
              "Name: count, dtype: int64"
            ],
            "text/html": [
              "<div>\n",
              "<style scoped>\n",
              "    .dataframe tbody tr th:only-of-type {\n",
              "        vertical-align: middle;\n",
              "    }\n",
              "\n",
              "    .dataframe tbody tr th {\n",
              "        vertical-align: top;\n",
              "    }\n",
              "\n",
              "    .dataframe thead th {\n",
              "        text-align: right;\n",
              "    }\n",
              "</style>\n",
              "<table border=\"1\" class=\"dataframe\">\n",
              "  <thead>\n",
              "    <tr style=\"text-align: right;\">\n",
              "      <th></th>\n",
              "      <th>count</th>\n",
              "    </tr>\n",
              "    <tr>\n",
              "      <th>category</th>\n",
              "      <th></th>\n",
              "    </tr>\n",
              "  </thead>\n",
              "  <tbody>\n",
              "    <tr>\n",
              "      <th>nocode</th>\n",
              "      <td>1572</td>\n",
              "    </tr>\n",
              "    <tr>\n",
              "      <th>happy</th>\n",
              "      <td>1137</td>\n",
              "    </tr>\n",
              "    <tr>\n",
              "      <th>not-relevant</th>\n",
              "      <td>214</td>\n",
              "    </tr>\n",
              "    <tr>\n",
              "      <th>angry</th>\n",
              "      <td>57</td>\n",
              "    </tr>\n",
              "    <tr>\n",
              "      <th>surprise</th>\n",
              "      <td>35</td>\n",
              "    </tr>\n",
              "    <tr>\n",
              "      <th>sad</th>\n",
              "      <td>32</td>\n",
              "    </tr>\n",
              "    <tr>\n",
              "      <th>happy|surprise</th>\n",
              "      <td>11</td>\n",
              "    </tr>\n",
              "    <tr>\n",
              "      <th>happy|sad</th>\n",
              "      <td>9</td>\n",
              "    </tr>\n",
              "    <tr>\n",
              "      <th>disgust|angry</th>\n",
              "      <td>7</td>\n",
              "    </tr>\n",
              "    <tr>\n",
              "      <th>disgust</th>\n",
              "      <td>6</td>\n",
              "    </tr>\n",
              "    <tr>\n",
              "      <th>sad|disgust</th>\n",
              "      <td>2</td>\n",
              "    </tr>\n",
              "    <tr>\n",
              "      <th>sad|angry</th>\n",
              "      <td>2</td>\n",
              "    </tr>\n",
              "    <tr>\n",
              "      <th>sad|disgust|angry</th>\n",
              "      <td>1</td>\n",
              "    </tr>\n",
              "  </tbody>\n",
              "</table>\n",
              "</div><br><label><b>dtype:</b> int64</label>"
            ]
          },
          "metadata": {},
          "execution_count": 5
        }
      ],
      "source": [
        "df.category.value_counts()"
      ]
    },
    {
      "cell_type": "code",
      "execution_count": null,
      "metadata": {
        "collapsed": true,
        "jupyter": {
          "outputs_hidden": true
        },
        "id": "e5XoITeokQ7w"
      },
      "outputs": [],
      "source": [
        "df=df[~df.category.str.contains('\\|')]"
      ]
    },
    {
      "cell_type": "code",
      "execution_count": null,
      "metadata": {
        "collapsed": true,
        "jupyter": {
          "outputs_hidden": true
        },
        "id": "oLlCy32tkQ7w"
      },
      "outputs": [],
      "source": [
        "df=df[df.category != 'nocode']"
      ]
    },
    {
      "cell_type": "code",
      "source": [
        "# Reset index after cleaning\n",
        "df.reset_index(drop=True, inplace=True)"
      ],
      "metadata": {
        "id": "tgR-jcb7cGSg"
      },
      "execution_count": null,
      "outputs": []
    },
    {
      "cell_type": "code",
      "execution_count": null,
      "metadata": {
        "collapsed": true,
        "jupyter": {
          "outputs_hidden": true
        },
        "colab": {
          "base_uri": "https://localhost:8080/"
        },
        "id": "SjGWL7_rkQ7w",
        "outputId": "9bf6f882-db49-4b93-b99e-2db4ff5d439d"
      },
      "outputs": [
        {
          "output_type": "stream",
          "name": "stdout",
          "text": [
            "category\n",
            "happy           1137\n",
            "not-relevant     214\n",
            "angry             57\n",
            "surprise          35\n",
            "sad               32\n",
            "disgust            6\n",
            "Name: count, dtype: int64\n"
          ]
        }
      ],
      "source": [
        "print(df['category'].value_counts())"
      ]
    },
    {
      "cell_type": "code",
      "execution_count": null,
      "metadata": {
        "collapsed": true,
        "jupyter": {
          "outputs_hidden": true
        },
        "id": "K1NMSj6NkQ7w"
      },
      "outputs": [],
      "source": [
        "possible_labels = df.category.unique()"
      ]
    },
    {
      "cell_type": "code",
      "execution_count": null,
      "metadata": {
        "collapsed": true,
        "jupyter": {
          "outputs_hidden": true
        },
        "id": "Uy4vtv6nkQ7w"
      },
      "outputs": [],
      "source": [
        "label_dict={}\n",
        "for index, possible_labels in enumerate(possible_labels):\n",
        "  label_dict[possible_labels] = index"
      ]
    },
    {
      "cell_type": "code",
      "execution_count": null,
      "metadata": {
        "collapsed": true,
        "jupyter": {
          "outputs_hidden": true
        },
        "colab": {
          "base_uri": "https://localhost:8080/"
        },
        "id": "33izMf5ukQ7w",
        "outputId": "459f1231-09ed-43ee-ca60-07bee20ebfb2"
      },
      "outputs": [
        {
          "output_type": "execute_result",
          "data": {
            "text/plain": [
              "{'happy': 0,\n",
              " 'not-relevant': 1,\n",
              " 'angry': 2,\n",
              " 'disgust': 3,\n",
              " 'sad': 4,\n",
              " 'surprise': 5}"
            ]
          },
          "metadata": {},
          "execution_count": 12
        }
      ],
      "source": [
        "label_dict"
      ]
    },
    {
      "cell_type": "code",
      "execution_count": null,
      "metadata": {
        "collapsed": true,
        "jupyter": {
          "outputs_hidden": true
        },
        "id": "U-u4xS2mkQ7x"
      },
      "outputs": [],
      "source": [
        "df['label']=df.category.replace(label_dict)"
      ]
    },
    {
      "cell_type": "code",
      "source": [
        "df.head(10)"
      ],
      "metadata": {
        "colab": {
          "base_uri": "https://localhost:8080/"
        },
        "id": "eKkyptQd37sb",
        "outputId": "6185c5df-0682-4436-dbac-5e4bca7dd91e"
      },
      "execution_count": null,
      "outputs": [
        {
          "output_type": "execute_result",
          "data": {
            "text/plain": [
              "                                                text      category  label\n",
              "0  Dorian Gray with Rainbow Scarf #LoveWins (from...         happy      0\n",
              "1  @SelectShowcase @Tate_StIves ... Replace with ...         happy      0\n",
              "2  @Sofabsports thank you for following me back. ...         happy      0\n",
              "3  @britishmuseum @TudorHistory What a beautiful ...         happy      0\n",
              "4  @NationalGallery @ThePoldarkian I have always ...         happy      0\n",
              "5  Lucky @FitzMuseum_UK! Good luck @MirandaStearn...         happy      0\n",
              "6  Yr 9 art students are off to the @britishmuseu...         happy      0\n",
              "7  @RAMMuseum Please vote for us as @sainsbury #s...  not-relevant      1\n",
              "8  #AskTheGallery Have you got plans to privatise...  not-relevant      1\n",
              "9               @BarbyWT @britishmuseum so beautiful         happy      0"
            ],
            "text/html": [
              "\n",
              "  <div id=\"df-9df0f208-d50b-4b1c-9498-458b213547a8\" class=\"colab-df-container\">\n",
              "    <div>\n",
              "<style scoped>\n",
              "    .dataframe tbody tr th:only-of-type {\n",
              "        vertical-align: middle;\n",
              "    }\n",
              "\n",
              "    .dataframe tbody tr th {\n",
              "        vertical-align: top;\n",
              "    }\n",
              "\n",
              "    .dataframe thead th {\n",
              "        text-align: right;\n",
              "    }\n",
              "</style>\n",
              "<table border=\"1\" class=\"dataframe\">\n",
              "  <thead>\n",
              "    <tr style=\"text-align: right;\">\n",
              "      <th></th>\n",
              "      <th>text</th>\n",
              "      <th>category</th>\n",
              "      <th>label</th>\n",
              "    </tr>\n",
              "  </thead>\n",
              "  <tbody>\n",
              "    <tr>\n",
              "      <th>0</th>\n",
              "      <td>Dorian Gray with Rainbow Scarf #LoveWins (from...</td>\n",
              "      <td>happy</td>\n",
              "      <td>0</td>\n",
              "    </tr>\n",
              "    <tr>\n",
              "      <th>1</th>\n",
              "      <td>@SelectShowcase @Tate_StIves ... Replace with ...</td>\n",
              "      <td>happy</td>\n",
              "      <td>0</td>\n",
              "    </tr>\n",
              "    <tr>\n",
              "      <th>2</th>\n",
              "      <td>@Sofabsports thank you for following me back. ...</td>\n",
              "      <td>happy</td>\n",
              "      <td>0</td>\n",
              "    </tr>\n",
              "    <tr>\n",
              "      <th>3</th>\n",
              "      <td>@britishmuseum @TudorHistory What a beautiful ...</td>\n",
              "      <td>happy</td>\n",
              "      <td>0</td>\n",
              "    </tr>\n",
              "    <tr>\n",
              "      <th>4</th>\n",
              "      <td>@NationalGallery @ThePoldarkian I have always ...</td>\n",
              "      <td>happy</td>\n",
              "      <td>0</td>\n",
              "    </tr>\n",
              "    <tr>\n",
              "      <th>5</th>\n",
              "      <td>Lucky @FitzMuseum_UK! Good luck @MirandaStearn...</td>\n",
              "      <td>happy</td>\n",
              "      <td>0</td>\n",
              "    </tr>\n",
              "    <tr>\n",
              "      <th>6</th>\n",
              "      <td>Yr 9 art students are off to the @britishmuseu...</td>\n",
              "      <td>happy</td>\n",
              "      <td>0</td>\n",
              "    </tr>\n",
              "    <tr>\n",
              "      <th>7</th>\n",
              "      <td>@RAMMuseum Please vote for us as @sainsbury #s...</td>\n",
              "      <td>not-relevant</td>\n",
              "      <td>1</td>\n",
              "    </tr>\n",
              "    <tr>\n",
              "      <th>8</th>\n",
              "      <td>#AskTheGallery Have you got plans to privatise...</td>\n",
              "      <td>not-relevant</td>\n",
              "      <td>1</td>\n",
              "    </tr>\n",
              "    <tr>\n",
              "      <th>9</th>\n",
              "      <td>@BarbyWT @britishmuseum so beautiful</td>\n",
              "      <td>happy</td>\n",
              "      <td>0</td>\n",
              "    </tr>\n",
              "  </tbody>\n",
              "</table>\n",
              "</div>\n",
              "    <div class=\"colab-df-buttons\">\n",
              "      \n",
              "  <div class=\"colab-df-container\">\n",
              "    <button class=\"colab-df-convert\" onclick=\"convertToInteractive('df-9df0f208-d50b-4b1c-9498-458b213547a8')\"\n",
              "            title=\"Convert this dataframe to an interactive table.\"\n",
              "            style=\"display:none;\">\n",
              "      \n",
              "  <svg xmlns=\"http://www.w3.org/2000/svg\" height=\"24px\" viewBox=\"0 -960 960 960\">\n",
              "    <path d=\"M120-120v-720h720v720H120Zm60-500h600v-160H180v160Zm220 220h160v-160H400v160Zm0 220h160v-160H400v160ZM180-400h160v-160H180v160Zm440 0h160v-160H620v160ZM180-180h160v-160H180v160Zm440 0h160v-160H620v160Z\"/>\n",
              "  </svg>\n",
              "    </button>\n",
              "    \n",
              "  <style>\n",
              "    .colab-df-container {\n",
              "      display:flex;\n",
              "      gap: 12px;\n",
              "    }\n",
              "\n",
              "    .colab-df-convert {\n",
              "      background-color: #E8F0FE;\n",
              "      border: none;\n",
              "      border-radius: 50%;\n",
              "      cursor: pointer;\n",
              "      display: none;\n",
              "      fill: #1967D2;\n",
              "      height: 32px;\n",
              "      padding: 0 0 0 0;\n",
              "      width: 32px;\n",
              "    }\n",
              "\n",
              "    .colab-df-convert:hover {\n",
              "      background-color: #E2EBFA;\n",
              "      box-shadow: 0px 1px 2px rgba(60, 64, 67, 0.3), 0px 1px 3px 1px rgba(60, 64, 67, 0.15);\n",
              "      fill: #174EA6;\n",
              "    }\n",
              "\n",
              "    .colab-df-buttons div {\n",
              "      margin-bottom: 4px;\n",
              "    }\n",
              "\n",
              "    [theme=dark] .colab-df-convert {\n",
              "      background-color: #3B4455;\n",
              "      fill: #D2E3FC;\n",
              "    }\n",
              "\n",
              "    [theme=dark] .colab-df-convert:hover {\n",
              "      background-color: #434B5C;\n",
              "      box-shadow: 0px 1px 3px 1px rgba(0, 0, 0, 0.15);\n",
              "      filter: drop-shadow(0px 1px 2px rgba(0, 0, 0, 0.3));\n",
              "      fill: #FFFFFF;\n",
              "    }\n",
              "  </style>\n",
              "\n",
              "    <script>\n",
              "      const buttonEl =\n",
              "        document.querySelector('#df-9df0f208-d50b-4b1c-9498-458b213547a8 button.colab-df-convert');\n",
              "      buttonEl.style.display =\n",
              "        google.colab.kernel.accessAllowed ? 'block' : 'none';\n",
              "\n",
              "      async function convertToInteractive(key) {\n",
              "        const element = document.querySelector('#df-9df0f208-d50b-4b1c-9498-458b213547a8');\n",
              "        const dataTable =\n",
              "          await google.colab.kernel.invokeFunction('convertToInteractive',\n",
              "                                                    [key], {});\n",
              "        if (!dataTable) return;\n",
              "\n",
              "        const docLinkHtml = 'Like what you see? Visit the ' +\n",
              "          '<a target=\"_blank\" href=https://colab.research.google.com/notebooks/data_table.ipynb>data table notebook</a>'\n",
              "          + ' to learn more about interactive tables.';\n",
              "        element.innerHTML = '';\n",
              "        dataTable['output_type'] = 'display_data';\n",
              "        await google.colab.output.renderOutput(dataTable, element);\n",
              "        const docLink = document.createElement('div');\n",
              "        docLink.innerHTML = docLinkHtml;\n",
              "        element.appendChild(docLink);\n",
              "      }\n",
              "    </script>\n",
              "  </div>\n",
              "  \n",
              "    </div>\n",
              "  </div>\n",
              "  "
            ]
          },
          "metadata": {},
          "execution_count": 14
        }
      ]
    },
    {
      "source": [
        "#  Category Frequency\n",
        "\n",
        "import matplotlib.pyplot as plt\n",
        "\n",
        "plt.figure()\n",
        "plt.hist(df['category'])\n",
        "plt.xlabel('Category')\n",
        "plt.ylabel('Frequency')\n",
        "_ = plt.title('Category Frequency')"
      ],
      "cell_type": "code",
      "execution_count": null,
      "outputs": [
        {
          "output_type": "display_data",
          "data": {
            "text/plain": [
              "<Figure size 640x480 with 1 Axes>"
            ],
            "image/png": "[encoded data removed]"
          },
          "metadata": {}
        }
      ],
      "metadata": {
        "colab": {
          "base_uri": "https://localhost:8080/"
        },
        "id": "io2kl1JSdZUK",
        "outputId": "3df4320f-36f4-40ac-d8f0-23af5ea38ef9"
      }
    },
    {
      "source": [
        "# title category vs label\n",
        "\n",
        "from matplotlib import pyplot as plt\n",
        "import seaborn as sns\n",
        "figsize = (12, 1.2 * len(df['category'].unique()))\n",
        "plt.figure(figsize=figsize)\n",
        "sns.violinplot(df, x='label', y='category', inner='box', palette='Dark2')\n",
        "sns.despine(top=True, right=True, bottom=True, left=True)"
      ],
      "cell_type": "code",
      "execution_count": null,
      "outputs": [
        {
          "output_type": "stream",
          "name": "stderr",
          "text": [
            "<ipython-input-16-311f77a7ef57>:7: FutureWarning: \n",
            "\n",
            "Passing `palette` without assigning `hue` is deprecated and will be removed in v0.14.0. Assign the `y` variable to `hue` and set `legend=False` for the same effect.\n",
            "\n",
            "  sns.violinplot(df, x='label', y='category', inner='box', palette='Dark2')\n"
          ]
        },
        {
          "output_type": "display_data",
          "data": {
            "text/plain": [
              "<Figure size 1200x720 with 1 Axes>"
            ],
            "image/png": "[encoded data removed]"
          },
          "metadata": {}
        }
      ],
      "metadata": {
        "colab": {
          "base_uri": "https://localhost:8080/"
        },
        "id": "FJcMmzzqdNpz",
        "outputId": "929aa6ef-130f-4f86-bb13-fb6aed98b26e"
      }
    },
    {
      "source": [
        "# title label\n",
        "\n",
        "from matplotlib import pyplot as plt\n",
        "df['label'].plot(kind='line', figsize=(8, 4), title='label')\n",
        "plt.gca().spines[['top', 'right']].set_visible(False)"
      ],
      "cell_type": "code",
      "execution_count": null,
      "outputs": [
        {
          "output_type": "display_data",
          "data": {
            "text/plain": [
              "<Figure size 800x400 with 1 Axes>"
            ],
            "image/png": "[encoded data removed]"
          },
          "metadata": {}
        }
      ],
      "metadata": {
        "colab": {
          "base_uri": "https://localhost:8080/"
        },
        "id": "DWVl3mj5dH2a",
        "outputId": "25ffd6d7-02f3-4b37-dac6-44894715983b"
      }
    },
    {
      "source": [
        "# title category\n",
        "\n",
        "from matplotlib import pyplot as plt\n",
        "import seaborn as sns\n",
        "df.groupby('category').size().plot(kind='barh', color=sns.palettes.mpl_palette('Dark2'))\n",
        "plt.gca().spines[['top', 'right',]].set_visible(False)"
      ],
      "cell_type": "code",
      "execution_count": null,
      "outputs": [
        {
          "output_type": "display_data",
          "data": {
            "text/plain": [
              "<Figure size 640x480 with 1 Axes>"
            ],
            "image/png": "[encoded data removed]"
          },
          "metadata": {}
        }
      ],
      "metadata": {
        "colab": {
          "base_uri": "https://localhost:8080/"
        },
        "id": "s8BM-CEkc-O-",
        "outputId": "89132593-52e7-4cd7-dda4-b8ae84c01166"
      }
    },
    {
      "source": [
        "# title label\n",
        "\n",
        "from matplotlib import pyplot as plt\n",
        "df['label'].plot(kind='hist', bins=20, title='label')\n",
        "plt.gca().spines[['top', 'right',]].set_visible(False)"
      ],
      "cell_type": "code",
      "execution_count": null,
      "outputs": [
        {
          "output_type": "display_data",
          "data": {
            "text/plain": [
              "<Figure size 640x480 with 1 Axes>"
            ],
            "image/png": "[encoded data removed]"
          },
          "metadata": {}
        }
      ],
      "metadata": {
        "colab": {
          "base_uri": "https://localhost:8080/"
        },
        "id": "EU6eli-HcycF",
        "outputId": "cc0f21b0-ff4c-4a68-d516-c7aa2016a4f7"
      }
    },
    {
      "source": [
        "from google.colab import sheets\n",
        "sheet = sheets.InteractiveSheet(df=df)"
      ],
      "cell_type": "code",
      "execution_count": null,
      "outputs": [
        {
          "output_type": "stream",
          "name": "stdout",
          "text": [
            "https://docs.google.com/spreadsheets/d/1eW8XbsJM3NF9qNsQXFEsKWhjExZmftDZzR5yB022I4M#gid=0\n"
          ]
        },
        {
          "output_type": "stream",
          "name": "stderr",
          "text": [
            "/usr/local/lib/python3.10/dist-packages/google/colab/sheets.py:31: FutureWarning: DataFrame.applymap has been deprecated. Use DataFrame.map instead.\n",
            "  return frame.applymap(_clean_val).replace({np.nan: None})\n"
          ]
        },
        {
          "output_type": "display_data",
          "data": {
            "text/plain": [
              "<IPython.lib.display.IFrame at 0x7fd7fd4fba90>"
            ],
            "text/html": [
              "\n",
              "        <iframe\n",
              "            width=\"100%\"\n",
              "            height=\"600\"\n",
              "            src=\"https://docs.google.com/spreadsheets/d/1eW8XbsJM3NF9qNsQXFEsKWhjExZmftDZzR5yB022I4M#gid=0/edit?rm=embedded?usp=sharing?widget=true&amp;headers=false\"\n",
              "            frameborder=\"0\"\n",
              "            allowfullscreen\n",
              "            \n",
              "        ></iframe>\n",
              "        "
            ]
          },
          "metadata": {}
        }
      ],
      "metadata": {
        "cellView": "form",
        "colab": {
          "base_uri": "https://localhost:8080/"
        },
        "id": "HYJiBG6Gcevr",
        "outputId": "99ea337f-695f-484a-ac2c-b4b8c1b8a3b6"
      }
    },
    {
      "cell_type": "code",
      "source": [
        "import matplotlib.pyplot as plt\n",
        "import seaborn as sns\n",
        "\n",
        "sns.countplot(df['category'])\n",
        "plt.xticks(rotation=45)\n",
        "plt.show()\n"
      ],
      "metadata": {
        "colab": {
          "base_uri": "https://localhost:8080/"
        },
        "id": "PajsM_PAcbIV",
        "outputId": "467055db-a884-4cca-cc99-cc398320662f"
      },
      "execution_count": null,
      "outputs": [
        {
          "output_type": "display_data",
          "data": {
            "text/plain": [
              "<Figure size 640x480 with 1 Axes>"
            ],
            "image/png": "[encoded data removed]"
          },
          "metadata": {}
        }
      ]
    },
    {
      "cell_type": "markdown",
      "metadata": {
        "id": "YC4HixRjkQ7x"
      },
      "source": [
        "## Task 3: Training/Validation Split"
      ]
    },
    {
      "cell_type": "code",
      "execution_count": null,
      "metadata": {
        "collapsed": true,
        "jupyter": {
          "outputs_hidden": true
        },
        "id": "qkKx_oxkkQ7x"
      },
      "outputs": [],
      "source": [
        "from sklearn.model_selection import train_test_split"
      ]
    },
    {
      "cell_type": "code",
      "execution_count": null,
      "metadata": {
        "collapsed": true,
        "jupyter": {
          "outputs_hidden": true
        },
        "id": "CxgKqCuekQ7x"
      },
      "outputs": [],
      "source": [
        "X_train,X_val, y_train, y_val = train_test_split (\n",
        "    df.index.values,\n",
        "    df.label.values,\n",
        "    test_size = 0.15,\n",
        "    random_state = 42,\n",
        "    stratify=df.label.values\n",
        ")"
      ]
    },
    {
      "cell_type": "code",
      "execution_count": null,
      "metadata": {
        "collapsed": true,
        "jupyter": {
          "outputs_hidden": true
        },
        "id": "GoIkLgr_kQ7x"
      },
      "outputs": [],
      "source": [
        "# Add a column to differentiate training and validation data\n",
        "df['data_type'] = ['not_set'] * df.shape[0]"
      ]
    },
    {
      "cell_type": "code",
      "execution_count": null,
      "metadata": {
        "jupyter": {
          "outputs_hidden": true
        },
        "colab": {
          "base_uri": "https://localhost:8080/"
        },
        "id": "-GgAwwWSkQ7x",
        "outputId": "8de74f05-5e31-40ec-bfd7-f40ceaf8efe3"
      },
      "outputs": [
        {
          "output_type": "execute_result",
          "data": {
            "text/plain": [
              "                                                text category  label data_type\n",
              "0  Dorian Gray with Rainbow Scarf #LoveWins (from...    happy      0   not_set\n",
              "1  @SelectShowcase @Tate_StIves ... Replace with ...    happy      0   not_set\n",
              "2  @Sofabsports thank you for following me back. ...    happy      0   not_set\n",
              "3  @britishmuseum @TudorHistory What a beautiful ...    happy      0   not_set\n",
              "4  @NationalGallery @ThePoldarkian I have always ...    happy      0   not_set"
            ],
            "text/html": [
              "\n",
              "  <div id=\"df-f0054d5d-c033-49ce-ba03-bfe3ad304947\" class=\"colab-df-container\">\n",
              "    <div>\n",
              "<style scoped>\n",
              "    .dataframe tbody tr th:only-of-type {\n",
              "        vertical-align: middle;\n",
              "    }\n",
              "\n",
              "    .dataframe tbody tr th {\n",
              "        vertical-align: top;\n",
              "    }\n",
              "\n",
              "    .dataframe thead th {\n",
              "        text-align: right;\n",
              "    }\n",
              "</style>\n",
              "<table border=\"1\" class=\"dataframe\">\n",
              "  <thead>\n",
              "    <tr style=\"text-align: right;\">\n",
              "      <th></th>\n",
              "      <th>text</th>\n",
              "      <th>category</th>\n",
              "      <th>label</th>\n",
              "      <th>data_type</th>\n",
              "    </tr>\n",
              "  </thead>\n",
              "  <tbody>\n",
              "    <tr>\n",
              "      <th>0</th>\n",
              "      <td>Dorian Gray with Rainbow Scarf #LoveWins (from...</td>\n",
              "      <td>happy</td>\n",
              "      <td>0</td>\n",
              "      <td>not_set</td>\n",
              "    </tr>\n",
              "    <tr>\n",
              "      <th>1</th>\n",
              "      <td>@SelectShowcase @Tate_StIves ... Replace with ...</td>\n",
              "      <td>happy</td>\n",
              "      <td>0</td>\n",
              "      <td>not_set</td>\n",
              "    </tr>\n",
              "    <tr>\n",
              "      <th>2</th>\n",
              "      <td>@Sofabsports thank you for following me back. ...</td>\n",
              "      <td>happy</td>\n",
              "      <td>0</td>\n",
              "      <td>not_set</td>\n",
              "    </tr>\n",
              "    <tr>\n",
              "      <th>3</th>\n",
              "      <td>@britishmuseum @TudorHistory What a beautiful ...</td>\n",
              "      <td>happy</td>\n",
              "      <td>0</td>\n",
              "      <td>not_set</td>\n",
              "    </tr>\n",
              "    <tr>\n",
              "      <th>4</th>\n",
              "      <td>@NationalGallery @ThePoldarkian I have always ...</td>\n",
              "      <td>happy</td>\n",
              "      <td>0</td>\n",
              "      <td>not_set</td>\n",
              "    </tr>\n",
              "  </tbody>\n",
              "</table>\n",
              "</div>\n",
              "    <div class=\"colab-df-buttons\">\n",
              "      \n",
              "  <div class=\"colab-df-container\">\n",
              "    <button class=\"colab-df-convert\" onclick=\"convertToInteractive('df-f0054d5d-c033-49ce-ba03-bfe3ad304947')\"\n",
              "            title=\"Convert this dataframe to an interactive table.\"\n",
              "            style=\"display:none;\">\n",
              "      \n",
              "  <svg xmlns=\"http://www.w3.org/2000/svg\" height=\"24px\" viewBox=\"0 -960 960 960\">\n",
              "    <path d=\"M120-120v-720h720v720H120Zm60-500h600v-160H180v160Zm220 220h160v-160H400v160Zm0 220h160v-160H400v160ZM180-400h160v-160H180v160Zm440 0h160v-160H620v160ZM180-180h160v-160H180v160Zm440 0h160v-160H620v160Z\"/>\n",
              "  </svg>\n",
              "    </button>\n",
              "    \n",
              "  <style>\n",
              "    .colab-df-container {\n",
              "      display:flex;\n",
              "      gap: 12px;\n",
              "    }\n",
              "\n",
              "    .colab-df-convert {\n",
              "      background-color: #E8F0FE;\n",
              "      border: none;\n",
              "      border-radius: 50%;\n",
              "      cursor: pointer;\n",
              "      display: none;\n",
              "      fill: #1967D2;\n",
              "      height: 32px;\n",
              "      padding: 0 0 0 0;\n",
              "      width: 32px;\n",
              "    }\n",
              "\n",
              "    .colab-df-convert:hover {\n",
              "      background-color: #E2EBFA;\n",
              "      box-shadow: 0px 1px 2px rgba(60, 64, 67, 0.3), 0px 1px 3px 1px rgba(60, 64, 67, 0.15);\n",
              "      fill: #174EA6;\n",
              "    }\n",
              "\n",
              "    .colab-df-buttons div {\n",
              "      margin-bottom: 4px;\n",
              "    }\n",
              "\n",
              "    [theme=dark] .colab-df-convert {\n",
              "      background-color: #3B4455;\n",
              "      fill: #D2E3FC;\n",
              "    }\n",
              "\n",
              "    [theme=dark] .colab-df-convert:hover {\n",
              "      background-color: #434B5C;\n",
              "      box-shadow: 0px 1px 3px 1px rgba(0, 0, 0, 0.15);\n",
              "      filter: drop-shadow(0px 1px 2px rgba(0, 0, 0, 0.3));\n",
              "      fill: #FFFFFF;\n",
              "    }\n",
              "  </style>\n",
              "\n",
              "    <script>\n",
              "      const buttonEl =\n",
              "        document.querySelector('#df-f0054d5d-c033-49ce-ba03-bfe3ad304947 button.colab-df-convert');\n",
              "      buttonEl.style.display =\n",
              "        google.colab.kernel.accessAllowed ? 'block' : 'none';\n",
              "\n",
              "      async function convertToInteractive(key) {\n",
              "        const element = document.querySelector('#df-f0054d5d-c033-49ce-ba03-bfe3ad304947');\n",
              "        const dataTable =\n",
              "          await google.colab.kernel.invokeFunction('convertToInteractive',\n",
              "                                                    [key], {});\n",
              "        if (!dataTable) return;\n",
              "\n",
              "        const docLinkHtml = 'Like what you see? Visit the ' +\n",
              "          '<a target=\"_blank\" href=https://colab.research.google.com/notebooks/data_table.ipynb>data table notebook</a>'\n",
              "          + ' to learn more about interactive tables.';\n",
              "        element.innerHTML = '';\n",
              "        dataTable['output_type'] = 'display_data';\n",
              "        await google.colab.output.renderOutput(dataTable, element);\n",
              "        const docLink = document.createElement('div');\n",
              "        docLink.innerHTML = docLinkHtml;\n",
              "        element.appendChild(docLink);\n",
              "      }\n",
              "    </script>\n",
              "  </div>\n",
              "  \n",
              "    </div>\n",
              "  </div>\n",
              "  "
            ]
          },
          "metadata": {},
          "execution_count": 25
        }
      ],
      "source": [
        "df.head()"
      ]
    },
    {
      "source": [
        "# data_type vs label\n",
        "\n",
        "from matplotlib import pyplot as plt\n",
        "import seaborn as sns\n",
        "figsize = (12, 1.2 * len(df['data_type'].unique()))\n",
        "plt.figure(figsize=figsize)\n",
        "sns.violinplot(df, x='label', y='data_type', inner='box', palette='Dark2')\n",
        "sns.despine(top=True, right=True, bottom=True, left=True)"
      ],
      "cell_type": "code",
      "execution_count": null,
      "outputs": [
        {
          "output_type": "stream",
          "name": "stderr",
          "text": [
            "<ipython-input-26-5b0ad478e5ff>:7: FutureWarning: \n",
            "\n",
            "Passing `palette` without assigning `hue` is deprecated and will be removed in v0.14.0. Assign the `y` variable to `hue` and set `legend=False` for the same effect.\n",
            "\n",
            "  sns.violinplot(df, x='label', y='data_type', inner='box', palette='Dark2')\n"
          ]
        },
        {
          "output_type": "display_data",
          "data": {
            "text/plain": [
              "<Figure size 1200x120 with 1 Axes>"
            ],
            "image/png": "[encoded data removed]"
          },
          "metadata": {}
        }
      ],
      "metadata": {
        "colab": {
          "base_uri": "https://localhost:8080/"
        },
        "id": "tDaFm453Ch2H",
        "outputId": "2c96429e-b995-430d-af0a-e83cc4376ffa"
      }
    },
    {
      "source": [
        "# category vs data_type\n",
        "\n",
        "from matplotlib import pyplot as plt\n",
        "import seaborn as sns\n",
        "import pandas as pd\n",
        "plt.subplots(figsize=(8, 8))\n",
        "df_2dhist = pd.DataFrame({\n",
        "    x_label: grp['data_type'].value_counts()\n",
        "    for x_label, grp in df.groupby('category')\n",
        "})\n",
        "sns.heatmap(df_2dhist, cmap='viridis')\n",
        "plt.xlabel('category')\n",
        "_ = plt.ylabel('data_type')"
      ],
      "cell_type": "code",
      "execution_count": null,
      "outputs": [
        {
          "output_type": "display_data",
          "data": {
            "text/plain": [
              "<Figure size 800x800 with 2 Axes>"
            ],
            "image/png": "[encoded data removed]"
          },
          "metadata": {}
        }
      ],
      "metadata": {
        "colab": {
          "base_uri": "https://localhost:8080/"
        },
        "id": "GoXxq2VcCYU3",
        "outputId": "b5e698df-6d40-4447-9a18-a11cc5645621"
      }
    },
    {
      "source": [
        "# title label\n",
        "\n",
        "from matplotlib import pyplot as plt\n",
        "df['label'].plot(kind='line', figsize=(8, 4), title='label')\n",
        "plt.gca().spines[['top', 'right']].set_visible(False)"
      ],
      "cell_type": "code",
      "execution_count": null,
      "outputs": [
        {
          "output_type": "display_data",
          "data": {
            "text/plain": [
              "<Figure size 800x400 with 1 Axes>"
            ],
            "image/png": "[encoded data removed]"
          },
          "metadata": {}
        }
      ],
      "metadata": {
        "colab": {
          "base_uri": "https://localhost:8080/"
        },
        "id": "YWxIg_WXCQ_v",
        "outputId": "72316605-f4a8-4c72-8663-3e0996f73cf6"
      }
    },
    {
      "source": [
        "# title data_type\n",
        "\n",
        "from matplotlib import pyplot as plt\n",
        "import seaborn as sns\n",
        "df.groupby('data_type').size().plot(kind='barh', color=sns.palettes.mpl_palette('Dark2'))\n",
        "plt.gca().spines[['top', 'right',]].set_visible(False)"
      ],
      "cell_type": "code",
      "execution_count": null,
      "outputs": [
        {
          "output_type": "display_data",
          "data": {
            "text/plain": [
              "<Figure size 640x480 with 1 Axes>"
            ],
            "image/png": "[encoded data removed]"
          },
          "metadata": {}
        }
      ],
      "metadata": {
        "colab": {
          "base_uri": "https://localhost:8080/"
        },
        "id": "AkmjzZX4CK71",
        "outputId": "288c1da9-53d4-465f-bac9-f9f0b772dc10"
      }
    },
    {
      "cell_type": "code",
      "execution_count": null,
      "metadata": {
        "collapsed": true,
        "jupyter": {
          "outputs_hidden": true
        },
        "id": "tf9bIftxkQ7x"
      },
      "outputs": [],
      "source": [
        "df.loc[X_train , 'data_type'] = 'train'\n",
        "df.loc[X_val , 'data_type'] = 'val'"
      ]
    },
    {
      "cell_type": "code",
      "source": [
        "df.groupby(['category', 'label', 'data_type']) .count()"
      ],
      "metadata": {
        "colab": {
          "base_uri": "https://localhost:8080/"
        },
        "id": "b0a8QTv-6P8e",
        "outputId": "ec7f35ea-d284-46e0-c076-5ca5940f69fc"
      },
      "execution_count": null,
      "outputs": [
        {
          "output_type": "execute_result",
          "data": {
            "text/plain": [
              "                              text\n",
              "category     label data_type      \n",
              "angry        2     train        48\n",
              "                   val           9\n",
              "disgust      3     train         5\n",
              "                   val           1\n",
              "happy        0     train       966\n",
              "                   val         171\n",
              "not-relevant 1     train       182\n",
              "                   val          32\n",
              "sad          4     train        27\n",
              "                   val           5\n",
              "surprise     5     train        30\n",
              "                   val           5"
            ],
            "text/html": [
              "\n",
              "  <div id=\"df-35eeb6df-aeed-4df3-ba33-d22688a3b63c\" class=\"colab-df-container\">\n",
              "    <div>\n",
              "<style scoped>\n",
              "    .dataframe tbody tr th:only-of-type {\n",
              "        vertical-align: middle;\n",
              "    }\n",
              "\n",
              "    .dataframe tbody tr th {\n",
              "        vertical-align: top;\n",
              "    }\n",
              "\n",
              "    .dataframe thead th {\n",
              "        text-align: right;\n",
              "    }\n",
              "</style>\n",
              "<table border=\"1\" class=\"dataframe\">\n",
              "  <thead>\n",
              "    <tr style=\"text-align: right;\">\n",
              "      <th></th>\n",
              "      <th></th>\n",
              "      <th></th>\n",
              "      <th>text</th>\n",
              "    </tr>\n",
              "    <tr>\n",
              "      <th>category</th>\n",
              "      <th>label</th>\n",
              "      <th>data_type</th>\n",
              "      <th></th>\n",
              "    </tr>\n",
              "  </thead>\n",
              "  <tbody>\n",
              "    <tr>\n",
              "      <th rowspan=\"2\" valign=\"top\">angry</th>\n",
              "      <th rowspan=\"2\" valign=\"top\">2</th>\n",
              "      <th>train</th>\n",
              "      <td>48</td>\n",
              "    </tr>\n",
              "    <tr>\n",
              "      <th>val</th>\n",
              "      <td>9</td>\n",
              "    </tr>\n",
              "    <tr>\n",
              "      <th rowspan=\"2\" valign=\"top\">disgust</th>\n",
              "      <th rowspan=\"2\" valign=\"top\">3</th>\n",
              "      <th>train</th>\n",
              "      <td>5</td>\n",
              "    </tr>\n",
              "    <tr>\n",
              "      <th>val</th>\n",
              "      <td>1</td>\n",
              "    </tr>\n",
              "    <tr>\n",
              "      <th rowspan=\"2\" valign=\"top\">happy</th>\n",
              "      <th rowspan=\"2\" valign=\"top\">0</th>\n",
              "      <th>train</th>\n",
              "      <td>966</td>\n",
              "    </tr>\n",
              "    <tr>\n",
              "      <th>val</th>\n",
              "      <td>171</td>\n",
              "    </tr>\n",
              "    <tr>\n",
              "      <th rowspan=\"2\" valign=\"top\">not-relevant</th>\n",
              "      <th rowspan=\"2\" valign=\"top\">1</th>\n",
              "      <th>train</th>\n",
              "      <td>182</td>\n",
              "    </tr>\n",
              "    <tr>\n",
              "      <th>val</th>\n",
              "      <td>32</td>\n",
              "    </tr>\n",
              "    <tr>\n",
              "      <th rowspan=\"2\" valign=\"top\">sad</th>\n",
              "      <th rowspan=\"2\" valign=\"top\">4</th>\n",
              "      <th>train</th>\n",
              "      <td>27</td>\n",
              "    </tr>\n",
              "    <tr>\n",
              "      <th>val</th>\n",
              "      <td>5</td>\n",
              "    </tr>\n",
              "    <tr>\n",
              "      <th rowspan=\"2\" valign=\"top\">surprise</th>\n",
              "      <th rowspan=\"2\" valign=\"top\">5</th>\n",
              "      <th>train</th>\n",
              "      <td>30</td>\n",
              "    </tr>\n",
              "    <tr>\n",
              "      <th>val</th>\n",
              "      <td>5</td>\n",
              "    </tr>\n",
              "  </tbody>\n",
              "</table>\n",
              "</div>\n",
              "    <div class=\"colab-df-buttons\">\n",
              "      \n",
              "  <div class=\"colab-df-container\">\n",
              "    <button class=\"colab-df-convert\" onclick=\"convertToInteractive('df-35eeb6df-aeed-4df3-ba33-d22688a3b63c')\"\n",
              "            title=\"Convert this dataframe to an interactive table.\"\n",
              "            style=\"display:none;\">\n",
              "      \n",
              "  <svg xmlns=\"http://www.w3.org/2000/svg\" height=\"24px\" viewBox=\"0 -960 960 960\">\n",
              "    <path d=\"M120-120v-720h720v720H120Zm60-500h600v-160H180v160Zm220 220h160v-160H400v160Zm0 220h160v-160H400v160ZM180-400h160v-160H180v160Zm440 0h160v-160H620v160ZM180-180h160v-160H180v160Zm440 0h160v-160H620v160Z\"/>\n",
              "  </svg>\n",
              "    </button>\n",
              "    \n",
              "  <style>\n",
              "    .colab-df-container {\n",
              "      display:flex;\n",
              "      gap: 12px;\n",
              "    }\n",
              "\n",
              "    .colab-df-convert {\n",
              "      background-color: #E8F0FE;\n",
              "      border: none;\n",
              "      border-radius: 50%;\n",
              "      cursor: pointer;\n",
              "      display: none;\n",
              "      fill: #1967D2;\n",
              "      height: 32px;\n",
              "      padding: 0 0 0 0;\n",
              "      width: 32px;\n",
              "    }\n",
              "\n",
              "    .colab-df-convert:hover {\n",
              "      background-color: #E2EBFA;\n",
              "      box-shadow: 0px 1px 2px rgba(60, 64, 67, 0.3), 0px 1px 3px 1px rgba(60, 64, 67, 0.15);\n",
              "      fill: #174EA6;\n",
              "    }\n",
              "\n",
              "    .colab-df-buttons div {\n",
              "      margin-bottom: 4px;\n",
              "    }\n",
              "\n",
              "    [theme=dark] .colab-df-convert {\n",
              "      background-color: #3B4455;\n",
              "      fill: #D2E3FC;\n",
              "    }\n",
              "\n",
              "    [theme=dark] .colab-df-convert:hover {\n",
              "      background-color: #434B5C;\n",
              "      box-shadow: 0px 1px 3px 1px rgba(0, 0, 0, 0.15);\n",
              "      filter: drop-shadow(0px 1px 2px rgba(0, 0, 0, 0.3));\n",
              "      fill: #FFFFFF;\n",
              "    }\n",
              "  </style>\n",
              "\n",
              "    <script>\n",
              "      const buttonEl =\n",
              "        document.querySelector('#df-35eeb6df-aeed-4df3-ba33-d22688a3b63c button.colab-df-convert');\n",
              "      buttonEl.style.display =\n",
              "        google.colab.kernel.accessAllowed ? 'block' : 'none';\n",
              "\n",
              "      async function convertToInteractive(key) {\n",
              "        const element = document.querySelector('#df-35eeb6df-aeed-4df3-ba33-d22688a3b63c');\n",
              "        const dataTable =\n",
              "          await google.colab.kernel.invokeFunction('convertToInteractive',\n",
              "                                                    [key], {});\n",
              "        if (!dataTable) return;\n",
              "\n",
              "        const docLinkHtml = 'Like what you see? Visit the ' +\n",
              "          '<a target=\"_blank\" href=https://colab.research.google.com/notebooks/data_table.ipynb>data table notebook</a>'\n",
              "          + ' to learn more about interactive tables.';\n",
              "        element.innerHTML = '';\n",
              "        dataTable['output_type'] = 'display_data';\n",
              "        await google.colab.output.renderOutput(dataTable, element);\n",
              "        const docLink = document.createElement('div');\n",
              "        docLink.innerHTML = docLinkHtml;\n",
              "        element.appendChild(docLink);\n",
              "      }\n",
              "    </script>\n",
              "  </div>\n",
              "  \n",
              "    </div>\n",
              "  </div>\n",
              "  "
            ]
          },
          "metadata": {},
          "execution_count": 31
        }
      ]
    },
    {
      "cell_type": "code",
      "source": [],
      "metadata": {
        "id": "JzggViId6NIK"
      },
      "execution_count": null,
      "outputs": []
    },
    {
      "cell_type": "markdown",
      "metadata": {
        "id": "PaAuEeu2kQ7y"
      },
      "source": [
        "## Task 4: Loading Tokenizer and Encoding our Data"
      ]
    },
    {
      "cell_type": "code",
      "execution_count": null,
      "metadata": {
        "jupyter": {
          "outputs_hidden": true
        },
        "id": "iIok37p3kQ7y"
      },
      "outputs": [],
      "source": [
        "from transformers import BertTokenizer\n",
        "from torch.utils.data import TensorDataset"
      ]
    },
    {
      "cell_type": "code",
      "execution_count": null,
      "metadata": {
        "collapsed": true,
        "jupyter": {
          "outputs_hidden": true
        },
        "colab": {
          "base_uri": "https://localhost:8080/"
        },
        "id": "NW93QsH5kQ7y",
        "outputId": "b04d9af6-0d55-4135-e07a-dceca54910f3"
      },
      "outputs": [
        {
          "output_type": "stream",
          "name": "stderr",
          "text": [
            "/usr/local/lib/python3.10/dist-packages/huggingface_hub/utils/_token.py:89: UserWarning: \n",
            "The secret `HF_TOKEN` does not exist in your Colab secrets.\n",
            "To authenticate with the Hugging Face Hub, create a token in your settings tab (https://huggingface.co/settings/tokens), set it as secret in your Google Colab and restart your session.\n",
            "You will be able to reuse this secret in all of your notebooks.\n",
            "Please note that authentication is recommended but still optional to access public models or datasets.\n",
            "  warnings.warn(\n",
            "/usr/local/lib/python3.10/dist-packages/transformers/tokenization_utils_base.py:1601: FutureWarning: `clean_up_tokenization_spaces` was not set. It will be set to `True` by default. This behavior will be depracted in transformers v4.45, and will be then set to `False` by default. For more details check this issue: https://github.com/huggingface/transformers/issues/31884\n",
            "  warnings.warn(\n"
          ]
        }
      ],
      "source": [
        "\n",
        "tokenizer = BertTokenizer.from_pretrained(\n",
        "    'bert-base-uncased',\n",
        "    do_lower_Case=True\n",
        ")"
      ]
    },
    {
      "cell_type": "code",
      "execution_count": null,
      "metadata": {
        "collapsed": true,
        "jupyter": {
          "outputs_hidden": true
        },
        "colab": {
          "base_uri": "https://localhost:8080/"
        },
        "id": "sDhrpd5skQ7y",
        "outputId": "085185e4-2c1d-4ee0-d20f-70754fa3b0c0"
      },
      "outputs": [
        {
          "output_type": "stream",
          "name": "stderr",
          "text": [
            "Truncation was not explicitly activated but `max_length` is provided a specific value, please use `truncation=True` to explicitly truncate examples to max length. Defaulting to 'longest_first' truncation strategy. If you encode pairs of sequences (GLUE-style) with the tokenizer you can select this strategy more precisely by providing a specific strategy to `truncation`.\n",
            "/usr/local/lib/python3.10/dist-packages/transformers/tokenization_utils_base.py:2870: FutureWarning: The `pad_to_max_length` argument is deprecated and will be removed in a future version, use `padding=True` or `padding='longest'` to pad to the longest sequence in the batch, or use `padding='max_length'` to pad to a max length. In this case, you can give a specific length with `max_length` (e.g. `max_length=45`) or leave max_length to None to pad to the maximal input size of the model (e.g. 512 for Bert).\n",
            "  warnings.warn(\n"
          ]
        }
      ],
      "source": [
        "# Encode training data\n",
        "encoded_data_train = tokenizer.batch_encode_plus(\n",
        "    df[df.data_type == 'train'].text.values,\n",
        "    add_special_tokens = True,\n",
        "    return_attention_mask=True,\n",
        "    pad_to_max_length = True,\n",
        "    max_length =256,\n",
        "    return_tensors='pt'\n",
        ")"
      ]
    },
    {
      "cell_type": "code",
      "execution_count": null,
      "metadata": {
        "collapsed": true,
        "jupyter": {
          "outputs_hidden": true
        },
        "id": "nsylIP4IkQ7z"
      },
      "outputs": [],
      "source": [
        "# Encode training data\n",
        "encoded_data_val = tokenizer.batch_encode_plus(\n",
        "    df[df.data_type == 'val'].text.values,\n",
        "    add_special_tokens = True,\n",
        "    return_attention_mask=True,\n",
        "    pad_to_max_length = True,\n",
        "    max_length= 256,\n",
        "    return_tensors='pt'\n",
        ")"
      ]
    },
    {
      "cell_type": "code",
      "execution_count": null,
      "metadata": {
        "collapsed": true,
        "jupyter": {
          "outputs_hidden": true
        },
        "id": "acr85dEEkQ7z"
      },
      "outputs": [],
      "source": [
        "# Extract input IDs, attention masks, and labels\n",
        "input_ids_train = encoded_data_train['input_ids']\n",
        "attention_masks_train = encoded_data_train['attention_mask']\n",
        "labels_train = torch.tensor(df[df.data_type=='train'].label.values)\n",
        "\n",
        "input_ids_val= encoded_data_val['input_ids']\n",
        "attention_masks_val = encoded_data_val['attention_mask']\n",
        "labels_val = torch.tensor(df[df.data_type=='val'].label.values)"
      ]
    },
    {
      "cell_type": "code",
      "execution_count": null,
      "metadata": {
        "collapsed": true,
        "jupyter": {
          "outputs_hidden": true
        },
        "colab": {
          "base_uri": "https://localhost:8080/"
        },
        "id": "-D-Z1hjokQ7z",
        "outputId": "ae49538d-7194-495e-c3f7-54d9a1090766"
      },
      "outputs": [
        {
          "output_type": "execute_result",
          "data": {
            "text/plain": [
              "1258"
            ]
          },
          "metadata": {},
          "execution_count": 37
        }
      ],
      "source": [
        "# Create TensorDatasets\n",
        "dataset_train = TensorDataset(input_ids_train,attention_masks_train,labels_train)\n",
        "len(dataset_train)"
      ]
    },
    {
      "cell_type": "code",
      "source": [
        "dataset_val =   TensorDataset(input_ids_val,attention_masks_val,labels_val)\n",
        "len(dataset_val)"
      ],
      "metadata": {
        "colab": {
          "base_uri": "https://localhost:8080/"
        },
        "id": "q8ZVXW-X-Uqx",
        "outputId": "2309e945-f2f3-4e65-a857-0183265c638b"
      },
      "execution_count": null,
      "outputs": [
        {
          "output_type": "execute_result",
          "data": {
            "text/plain": [
              "223"
            ]
          },
          "metadata": {},
          "execution_count": 38
        }
      ]
    },
    {
      "cell_type": "markdown",
      "source": [],
      "metadata": {
        "id": "yEQ6y_pW9dJE"
      }
    },
    {
      "cell_type": "markdown",
      "metadata": {
        "id": "Bu9X4X-pkQ7z"
      },
      "source": [
        "## Task 5: Setting up BERT Pretrained Model"
      ]
    },
    {
      "cell_type": "code",
      "execution_count": null,
      "metadata": {
        "jupyter": {
          "outputs_hidden": true
        },
        "id": "J5Kg9cz7kQ7z"
      },
      "outputs": [],
      "source": [
        "from transformers import BertForSequenceClassification"
      ]
    },
    {
      "cell_type": "code",
      "execution_count": null,
      "metadata": {
        "collapsed": true,
        "jupyter": {
          "outputs_hidden": true
        },
        "colab": {
          "base_uri": "https://localhost:8080/"
        },
        "id": "fJAiRgiakQ70",
        "outputId": "505eb245-c8ac-4b92-873d-d44d686497aa"
      },
      "outputs": [
        {
          "output_type": "stream",
          "name": "stderr",
          "text": [
            "Some weights of BertForSequenceClassification were not initialized from the model checkpoint at bert-base-uncased and are newly initialized: ['classifier.bias', 'classifier.weight']\n",
            "You should probably TRAIN this model on a down-stream task to be able to use it for predictions and inference.\n"
          ]
        }
      ],
      "source": [
        "model = BertForSequenceClassification.from_pretrained('bert-base-uncased',\n",
        "                                      num_labels = len(label_dict),\n",
        "                                      output_attentions=False,\n",
        "                                      output_hidden_states=False\n",
        "                                      )"
      ]
    },
    {
      "cell_type": "markdown",
      "source": [],
      "metadata": {
        "id": "0drGR2h4_HvD"
      }
    },
    {
      "cell_type": "markdown",
      "metadata": {
        "id": "2MWBXDadkQ70"
      },
      "source": [
        "## Task 6: Creating Data Loaders"
      ]
    },
    {
      "cell_type": "code",
      "execution_count": null,
      "metadata": {
        "jupyter": {
          "outputs_hidden": true
        },
        "id": "PiaiU239kQ70"
      },
      "outputs": [],
      "source": [
        "from torch.utils.data import DataLoader, RandomSampler, SequentialSampler"
      ]
    },
    {
      "cell_type": "code",
      "execution_count": null,
      "metadata": {
        "collapsed": true,
        "jupyter": {
          "outputs_hidden": true
        },
        "id": "bHeSNoSpkQ71"
      },
      "outputs": [],
      "source": [
        "batch_size = 32\n",
        "dataloader_train = DataLoader(\n",
        "    dataset_train,\n",
        "    sampler=RandomSampler(dataset_train),\n",
        "    batch_size=batch_size\n",
        ")\n",
        "\n",
        "dataloader_val = DataLoader(\n",
        "    dataset_val,\n",
        "    sampler=RandomSampler(dataset_val),\n",
        "    batch_size=4\n",
        ")"
      ]
    },
    {
      "cell_type": "markdown",
      "metadata": {
        "id": "NXHAWQV1kQ72"
      },
      "source": [
        "## Task 7: Setting Up Optimizer and Scheduler"
      ]
    },
    {
      "cell_type": "code",
      "execution_count": null,
      "metadata": {
        "jupyter": {
          "outputs_hidden": true
        },
        "id": "QtQOZcj_kQ72"
      },
      "outputs": [],
      "source": [
        "from transformers import AdamW, get_linear_schedule_with_warmup"
      ]
    },
    {
      "cell_type": "code",
      "execution_count": null,
      "metadata": {
        "collapsed": true,
        "jupyter": {
          "outputs_hidden": true
        },
        "colab": {
          "base_uri": "https://localhost:8080/"
        },
        "id": "kHILkH8gkQ72",
        "outputId": "eeadf1d3-a5d8-41d1-bbd5-958a53eb8976"
      },
      "outputs": [
        {
          "output_type": "stream",
          "name": "stderr",
          "text": [
            "/usr/local/lib/python3.10/dist-packages/transformers/optimization.py:591: FutureWarning: This implementation of AdamW is deprecated and will be removed in a future version. Use the PyTorch implementation torch.optim.AdamW instead, or set `no_deprecation_warning=True` to disable this warning\n",
            "  warnings.warn(\n"
          ]
        }
      ],
      "source": [
        "# Set up optimizer\n",
        "optimizer = AdamW(\n",
        "    model.parameters(),\n",
        "    lr=2e-5, #1e-5  >52-5\n",
        "    eps= 1e-8\n",
        ")"
      ]
    },
    {
      "cell_type": "code",
      "execution_count": null,
      "metadata": {
        "collapsed": true,
        "jupyter": {
          "outputs_hidden": true
        },
        "id": "0PGs_lTjkQ72"
      },
      "outputs": [],
      "source": [
        "# Set up scheduler\n",
        "epochs = 4\n",
        "scheduler = get_linear_schedule_with_warmup(\n",
        "    optimizer,\n",
        "    num_warmup_steps=0,\n",
        "    num_training_steps=len(dataloader_train)*epochs\n",
        ")"
      ]
    },
    {
      "cell_type": "markdown",
      "metadata": {
        "id": "LkA7ZuOKkQ73"
      },
      "source": [
        "## Task 8: Defining our Performance Metrics"
      ]
    },
    {
      "cell_type": "markdown",
      "metadata": {
        "id": "ipzEqoTxkQ73"
      },
      "source": [
        "Accuracy metric approach originally used in accuracy function in [this tutorial](https://mccormickml.com/2019/07/22/BERT-fine-tuning/#41-bertforsequenceclassification)."
      ]
    },
    {
      "cell_type": "code",
      "execution_count": null,
      "metadata": {
        "jupyter": {
          "outputs_hidden": true
        },
        "id": "anYmwoH0kQ73"
      },
      "outputs": [],
      "source": [
        "import numpy as np"
      ]
    },
    {
      "cell_type": "code",
      "execution_count": null,
      "metadata": {
        "jupyter": {
          "outputs_hidden": true
        },
        "id": "aEGHLTmQkQ73"
      },
      "outputs": [],
      "source": [
        "from sklearn.metrics import f1_score"
      ]
    },
    {
      "cell_type": "code",
      "source": [
        "#preds = [0.9 0.05 0.05 0.005 0 0 ]"
      ],
      "metadata": {
        "id": "rjpiKg_oDvK3"
      },
      "execution_count": null,
      "outputs": []
    },
    {
      "cell_type": "code",
      "execution_count": null,
      "metadata": {
        "jupyter": {
          "outputs_hidden": true
        },
        "id": "OdX9CuTgkQ74"
      },
      "outputs": [],
      "source": [
        "def f1_score_func(preds, labels):\n",
        "    preds_flat = np.argmax(preds,axis=1).flatten()\n",
        "    labels_flat = labels.flatten()\n",
        "    return f1_score(labels_flat,preds_flat,average='weighted')\n"
      ]
    },
    {
      "cell_type": "code",
      "execution_count": null,
      "metadata": {
        "jupyter": {
          "outputs_hidden": true
        },
        "id": "BAw4jjYrkQ74"
      },
      "outputs": [],
      "source": [
        "def accuracy_per_class(preds, labels):\n",
        "    label_dict_inverse={v: k for k, v in label_dict.items()}\n",
        "\n",
        "    preds_flat = np.argmax(preds,axis=1).flatten()\n",
        "    labels_flat = labels.flatten()\n",
        "\n",
        "    for label in np.unique(labels_flat):\n",
        "      y_preds = preds_flat[labels_flat==label]\n",
        "      y_true = labels_flat[labels_flat==label]\n",
        "      print(f'class: {label_dict_inverse[label]}')\n",
        "      print(f'Accurecy: {len(y_preds[y_preds==label])}/{len(y_true)}\\n')\n"
      ]
    },
    {
      "cell_type": "markdown",
      "metadata": {
        "id": "2K_h1uMmkQ74"
      },
      "source": [
        "## Task 9: Creating our Training Loop"
      ]
    },
    {
      "cell_type": "markdown",
      "metadata": {
        "id": "NrTu8ea4kQ74"
      },
      "source": [
        "Approach adapted from an older version of HuggingFace's `run_glue.py` script. Accessible [here](https://github.com/huggingface/transformers/blob/5bfcd0485ece086ebcbed2d008813037968a9e58/examples/run_glue.py#L128)."
      ]
    },
    {
      "cell_type": "code",
      "source": [
        "import random\n",
        "\n",
        "seed_val = 17\n",
        "random.seed(seed_val)\n",
        "np.random.seed(seed_val)\n",
        "torch.manual_seed(seed_val)\n",
        "torch.cuda.manual_seed_all(seed_val)"
      ],
      "metadata": {
        "id": "UZBWUiwGM4Ly"
      },
      "execution_count": null,
      "outputs": []
    },
    {
      "cell_type": "code",
      "source": [
        "device = torch.device('cuda' if torch.cuda.is_available() else 'cpu')\n",
        "model.to(device)\n",
        "\n",
        "print(device)"
      ],
      "metadata": {
        "colab": {
          "base_uri": "https://localhost:8080/"
        },
        "id": "CMlFvMjXNDuX",
        "outputId": "2be1e9c9-c094-4552-a889-9616b2699ce7"
      },
      "execution_count": null,
      "outputs": [
        {
          "output_type": "stream",
          "name": "stdout",
          "text": [
            "cpu\n"
          ]
        }
      ]
    },
    {
      "cell_type": "code",
      "execution_count": null,
      "metadata": {
        "jupyter": {
          "outputs_hidden": true
        },
        "id": "YTB9LqjRkQ75"
      },
      "outputs": [],
      "source": [
        "def evaluate(dataloader_val):\n",
        "\n",
        "    model.eval()\n",
        "\n",
        "    loss_val_total = 0\n",
        "    predictions, true_vals = [], []\n",
        "\n",
        "    for batch in tqdm(dataloader_val):\n",
        "\n",
        "        batch = tuple(b.to(device) for b in batch)\n",
        "\n",
        "        inputs = {'input_ids':      batch[0],\n",
        "                  'attention_mask': batch[1],\n",
        "                  'labels':         batch[2],\n",
        "                 }\n",
        "\n",
        "        with torch.no_grad():\n",
        "            outputs = model(**inputs)\n",
        "\n",
        "        loss = outputs[0]\n",
        "        logits = outputs[1]\n",
        "        loss_val_total += loss.item()\n",
        "\n",
        "        logits = logits.detach().cpu().numpy()\n",
        "        label_ids = inputs['labels'].cpu().numpy()\n",
        "        predictions.append(logits)\n",
        "        true_vals.append(label_ids)\n",
        "\n",
        "    loss_val_avg = loss_val_total/len(dataloader_val)\n",
        "\n",
        "    predictions = np.concatenate(predictions, axis=0)\n",
        "    true_vals = np.concatenate(true_vals, axis=0)\n",
        "\n",
        "    return loss_val_avg, predictions, true_vals\n"
      ]
    },
    {
      "cell_type": "code",
      "source": [
        "# Training loop\n",
        "for epoch in tqdm(range(1, epochs + 1)):\n",
        "    model.train()\n",
        "    loss_train_total = 0\n",
        "\n",
        "    progress_bar = tqdm(dataloader_train,\n",
        "                        desc= 'Epoch{:1d}'.format(epoch),\n",
        "                        leave=False,\n",
        "                        disable=False)\n",
        "    for batch in progress_bar:\n",
        "        model.zero_grad()\n",
        "        batch = tuple(b.to(device) for b in batch)\n",
        "\n",
        "        inputs = {\n",
        "            'input_ids': batch[0],\n",
        "            'attention_mask': batch[1],\n",
        "            'labels': batch[2]\n",
        "        }\n",
        "\n",
        "        outputs = model(**inputs)\n",
        "        loss = outputs[0]\n",
        "        loss_train_total += loss.item()\n",
        "        loss.backward()\n",
        "\n",
        "        # Corrected line\n",
        "        torch.nn.utils.clip_grad_norm_(model.parameters(), 1.0)\n",
        "\n",
        "        optimizer.step()\n",
        "        scheduler.step()\n",
        "\n",
        "        progress_bar.set_postfix({'training_loss': '{:.3f}'.format(loss.item() / len(batch))})\n",
        "\n",
        "    torch.save(model.state_dict(), f'/content/Models/BERT_ft_epoch{epoch}.model')\n",
        "\n",
        "    tqdm.write(f'\\nEpoch {epoch}')\n",
        "\n",
        "    loss_train_avg = loss_train_total / len(dataloader_train)\n",
        "    tqdm.write(f'Training loss: {loss_train_avg}')\n",
        "\n",
        "    val_loss, predictions, true_vals = evaluate(dataloader_val)\n",
        "    val_f1 = f1_score_func(predictions, true_vals)\n",
        "    tqdm.write(f'Validation loss: {val_loss}')\n",
        "    tqdm.write(f'F1 Score (weighted): {val_f1}')\n"
      ],
      "metadata": {
        "colab": {
          "base_uri": "https://localhost:8080/",
          "referenced_widgets": [
            "912d0888f36e4477b94a3add3ed29ee1",
            "b17cfb5b4e8949f3a71b0030eed91837",
            "18a263d8544b4b98945b250adad49cd0",
            "4bb7fe2214db48ab93fb31e941ec3f1b",
            "c49f8cd4ebc44b9686cbcfe4b740f514",
            "38f173e60e994beb99b499452b282e7f",
            "3ed7eeebe8f2449b84a4a4e0ddba59a9",
            "92f5547476744cec842841b8269b55b2",
            "f6e3fd64efba4f5e82004b7488299259",
            "bc2791da53a04fdf8f37cb602d84a211",
            "dc0bc98bfe0f48f099ad181f790f6f0d",
            "4d9fd90047d44fe089e6e256ab2807a0",
            "4da4caec69e448029ffaeec532942250",
            "1c3dc73d499e49c19d39d09dabbd8e3f",
            "1b04e0a93a61463aa0e637f11d28b049",
            "b10b7ae0acf9416399ab2f04eea61df9",
            "be25d2aadfad441e8df77f2e80a5a49c",
            "ee73a1c951824f4987ea566b05e6f1d7",
            "815a26231cb24e1b8c5c79d45c9ed615",
            "a09f3529c37744faa8dc0d4272099f68",
            "4bc0163466bc4504bec4f89c1249f31f",
            "f94e62ea82b94a969950f2db1ec20ce1"
          ]
        },
        "id": "sIRJOceLMq2h",
        "outputId": "444d3883-e53a-462f-f147-446aa5600e04"
      },
      "execution_count": null,
      "outputs": [
        {
          "output_type": "display_data",
          "data": {
            "text/plain": [
              "  0%|          | 0/4 [00:00<?, ?it/s]"
            ],
            "application/vnd.jupyter.widget-view+json": {
              "version_major": 2,
              "version_minor": 0,
              "model_id": "912d0888f36e4477b94a3add3ed29ee1"
            }
          },
          "metadata": {}
        },
        {
          "output_type": "display_data",
          "data": {
            "text/plain": [
              "Epoch1:   0%|          | 0/40 [00:00<?, ?it/s]"
            ],
            "application/vnd.jupyter.widget-view+json": {
              "version_major": 2,
              "version_minor": 0,
              "model_id": "4d9fd90047d44fe089e6e256ab2807a0"
            }
          },
          "metadata": {}
        }
      ]
    },
    {
      "cell_type": "markdown",
      "metadata": {
        "id": "wWaaF9HmkQ78"
      },
      "source": [
        "## Task 10: Loading and Evaluating our Model"
      ]
    },
    {
      "cell_type": "code",
      "execution_count": null,
      "metadata": {
        "jupyter": {
          "outputs_hidden": true
        },
        "id": "NHEhgZR9kQ78"
      },
      "outputs": [],
      "source": [
        "model = BertForSequenceClassification.from_pretrained(\"bert-base-uncased\",\n",
        "                                                      num_labels=len(label_dict),\n",
        "                                                      output_attentions=False,\n",
        "                                                      output_hidden_states=False)"
      ]
    },
    {
      "cell_type": "code",
      "execution_count": null,
      "metadata": {
        "collapsed": true,
        "jupyter": {
          "outputs_hidden": true
        },
        "id": "yH8UdPH5kQ79"
      },
      "outputs": [],
      "source": [
        "model.to(device)\n",
        "pass"
      ]
    },
    {
      "cell_type": "code",
      "execution_count": null,
      "metadata": {
        "collapsed": true,
        "jupyter": {
          "outputs_hidden": true
        },
        "id": "aAtiyxqJkQ79"
      },
      "outputs": [],
      "source": [
        "model.load_state_dict(\n",
        "    torch.load( '/content/Models/BERT_ft_epoch1.model', map_location = torch.device('cpu'))\n",
        ")"
      ]
    },
    {
      "cell_type": "code",
      "source": [
        "model.load_state_dict(\n",
        "    torch.load( '/content/Models/BERT_ft_epoch10.model', map_location = torch.device('cpu'))\n",
        ")"
      ],
      "metadata": {
        "id": "-irRDvJ6aV4H"
      },
      "execution_count": null,
      "outputs": []
    },
    {
      "cell_type": "code",
      "execution_count": null,
      "metadata": {
        "collapsed": true,
        "jupyter": {
          "outputs_hidden": true
        },
        "id": "QcUtlVgRkQ79"
      },
      "outputs": [],
      "source": [
        "_, predictions ,true_vals = evaluate(dataloader_val)"
      ]
    },
    {
      "cell_type": "code",
      "execution_count": null,
      "metadata": {
        "collapsed": true,
        "jupyter": {
          "outputs_hidden": true
        },
        "id": "hIuqVUQ7kQ79"
      },
      "outputs": [],
      "source": [
        "accuracy_per_class(predictions,true_vals)"
      ]
    },
    {
      "cell_type": "code",
      "source": [],
      "metadata": {
        "id": "kaI4XtTERsx_"
      },
      "execution_count": null,
      "outputs": []
    },
    {
      "cell_type": "markdown",
      "source": [
        "## Task 11: Hyperparameter Optimization"
      ],
      "metadata": {
        "id": "q-DGl5bbo0BM"
      }
    },
    {
      "cell_type": "markdown",
      "source": [
        "Hyperparameter optimization is essential for improving model performance. I use libraries like Optuna or manual grid/random search to find the best parameters. Here’s an example using GridSearchCV from sklearn for simplicity:"
      ],
      "metadata": {
        "id": "aE7nMSWgpJad"
      }
    },
    {
      "cell_type": "markdown",
      "source": [
        "### 11.1. Define the Parameter Grid"
      ],
      "metadata": {
        "id": "RZ7AqRR0pN8o"
      }
    },
    {
      "cell_type": "code",
      "source": [
        "import torch\n",
        "# Check if GPU is available and set the device\n",
        "device = torch.device(\"cuda\" if torch.cuda.is_available() else \"cpu\")\n",
        "print(device)"
      ],
      "metadata": {
        "id": "zKSO9iFOsHDP"
      },
      "execution_count": null,
      "outputs": []
    },
    {
      "cell_type": "code",
      "source": [
        "from transformers import BertForSequenceClassification\n",
        "from transformers import AdamW\n",
        "from sklearn.model_selection import ParameterGrid\n",
        "import torch\n",
        "\n",
        "# Check if GPU is available and set the device\n",
        "device = torch.device(\"cuda\" if torch.cuda.is_available() else \"cpu\")\n",
        "print(f\"Using device: {device}\")\n",
        "\n",
        "# Define hyperparameter grid\n",
        "param_grid = {\n",
        "    'learning_rate': [2e-5, 3e-5],\n",
        "    'batch_size': [16, 32],\n",
        "    'epochs': [2, 3]\n",
        "}\n",
        "\n",
        "best_val_f1 = 0\n",
        "best_params = None\n",
        "\n",
        "# Iterate through all combinations of parameters\n",
        "for params in ParameterGrid(param_grid):\n",
        "    print(f\"Testing params: {params}\")\n",
        "\n",
        "    # Re-initialize the model and move it to the appropriate device\n",
        "    model = BertForSequenceClassification.from_pretrained(\n",
        "        'bert-base-uncased',\n",
        "        num_labels=len(label_dict),\n",
        "        output_attentions=False,\n",
        "        output_hidden_states=False\n",
        "    ).to(device)  # Move model to device\n",
        "\n",
        "    # Use the PyTorch AdamW\n",
        "    optimizer = torch.optim.AdamW(model.parameters(), lr=params['learning_rate'], eps=1e-8)\n",
        "\n",
        "    # Adjust DataLoader based on batch size\n",
        "    dataloader_train = DataLoader(dataset_train, sampler=RandomSampler(dataset_train), batch_size=params['batch_size'])\n",
        "\n",
        "    # Train the model with the current set of parameters\n",
        "    for epoch in range(params['epochs']):\n",
        "        model.train()\n",
        "        for batch in tqdm(dataloader_train):\n",
        "            model.zero_grad()\n",
        "            batch = tuple(b.to(device) for b in batch)  # Move batch to device\n",
        "            inputs = {'input_ids': batch[0], 'attention_mask': batch[1], 'labels': batch[2]}\n",
        "            outputs = model(**inputs)\n",
        "            loss = outputs[0]\n",
        "            loss.backward()\n",
        "            optimizer.step()\n",
        "\n",
        "        # Evaluate on validation set\n",
        "        val_loss, predictions, true_vals = evaluate(dataloader_val)\n",
        "        val_f1 = f1_score(true_vals, np.argmax(predictions, axis=1), average='weighted')\n",
        "\n",
        "        # Check if this is the best model\n",
        "        if val_f1 > best_val_f1:\n",
        "            best_val_f1 = val_f1\n",
        "            best_params = params\n",
        "\n",
        "print(f\"Best F1 Score: {best_val_f1} with params: {best_params}\")\n"
      ],
      "metadata": {
        "id": "U_sfro23q6QS"
      },
      "execution_count": null,
      "outputs": []
    },
    {
      "cell_type": "markdown",
      "source": [
        "## Task 12: Model Fine-Tuning\n",
        "We'll use the best parameters (batch_size=32, epochs=3, learning_rate=3e-05) and fine-tune the BERT model on the training data, making sure to use the same training loop as before, with minor adjustments to optimize the fine-tuning process.\n"
      ],
      "metadata": {
        "id": "H_svfLJYpluf"
      }
    },
    {
      "cell_type": "markdown",
      "source": [
        "### Step 1: Initialize the Model\n",
        "First, we'll reinitialize the BERT model for sequence classification, ensuring we set the number of labels correctly based on your dataset."
      ],
      "metadata": {
        "id": "RIJLsIkYMAHT"
      }
    },
    {
      "cell_type": "code",
      "source": [
        "from transformers import BertForSequenceClassification, AdamW, get_linear_schedule_with_warmup\n",
        "import torch\n",
        "\n",
        "# Load the model with the correct number of labels\n",
        "model = BertForSequenceClassification.from_pretrained(\n",
        "    'bert-base-uncased',\n",
        "    num_labels=len(label_dict),\n",
        "    output_attentions=False,\n",
        "    output_hidden_states=False\n",
        ")\n",
        "\n",
        "# Send the model to the GPU if available\n",
        "device = torch.device('cuda' if torch.cuda.is_available() else 'cpu')\n",
        "model.to(device)\n"
      ],
      "metadata": {
        "id": "98lcRd9rL_ew"
      },
      "execution_count": null,
      "outputs": []
    },
    {
      "cell_type": "markdown",
      "source": [
        "### Step 2: Define Optimizer and Scheduler\n",
        "We'll use the AdamW optimizer with the best learning rate (3e-5) and also implement a linear learning rate scheduler\n",
        "\n"
      ],
      "metadata": {
        "id": "HNZab3vDMEkP"
      }
    },
    {
      "cell_type": "code",
      "source": [
        "# Define optimizer with the best learning rate\n",
        "optimizer = AdamW(model.parameters(), lr=3e-5, eps=1e-8)\n",
        "\n",
        "# Total number of training steps is [number of batches] x [number of epochs]\n",
        "total_steps = len(dataloader_train) * 3  # Using 3 epochs\n",
        "\n",
        "# Create the learning rate scheduler\n",
        "scheduler = get_linear_schedule_with_warmup(optimizer, num_warmup_steps=0, num_training_steps=total_steps)\n"
      ],
      "metadata": {
        "id": "uwMq3ZjaLgqJ"
      },
      "execution_count": null,
      "outputs": []
    },
    {
      "cell_type": "markdown",
      "source": [
        "### Step 3: Define Loss and Accuracy Calculation Functions\n",
        "You will need functions to calculate the loss and track performance metrics (accuracy and F1 score). We've already implemented the accuracy_per_class and evaluate functions earlier, so we will use them."
      ],
      "metadata": {
        "id": "Ws9Zv2t-MRCD"
      }
    },
    {
      "cell_type": "markdown",
      "source": [
        "### Step 4: Train the Model with the Best Hyperparameters\n",
        "We'll now train the model for 3 epochs (the best found during hyperparameter tuning). Here’s the updated training loop:"
      ],
      "metadata": {
        "id": "bPQ1ioDKMZxk"
      }
    },
    {
      "cell_type": "code",
      "source": [
        "from tqdm.notebook import tqdm  # For progress bar\n",
        "\n",
        "# Training loop with the best parameters\n",
        "epochs = 3  # Best found epochs\n",
        "\n",
        "for epoch in range(epochs):\n",
        "    print(f'Epoch {epoch + 1}/{epochs}')\n",
        "    model.train()  # Set model to training mode\n",
        "    total_train_loss = 0\n",
        "\n",
        "    # Train the model on batches\n",
        "    for batch in tqdm(dataloader_train):\n",
        "        # Clear the gradients\n",
        "        model.zero_grad()\n",
        "\n",
        "        # Prepare input data and send it to the GPU if available\n",
        "        batch = tuple(b.to(device) for b in batch)\n",
        "        inputs = {'input_ids': batch[0], 'attention_mask': batch[1], 'labels': batch[2]}\n",
        "\n",
        "        # Perform forward pass\n",
        "        outputs = model(**inputs)\n",
        "        loss = outputs[0]  # Get the loss from the model output\n",
        "        total_train_loss += loss.item()\n",
        "\n",
        "        # Backpropagate and update weights\n",
        "        loss.backward()\n",
        "        optimizer.step()\n",
        "        scheduler.step()  # Adjust the learning rate\n",
        "\n",
        "    avg_train_loss = total_train_loss / len(dataloader_train)\n",
        "    print(f\"Training loss: {avg_train_loss:.4f}\")\n",
        "\n",
        "    # After each epoch, evaluate on the validation set\n",
        "    val_loss, predictions, true_vals = evaluate(dataloader_val)\n",
        "    val_f1 = f1_score(true_vals, np.argmax(predictions, axis=1), average='weighted')\n",
        "    print(f'Validation F1 Score: {val_f1:.4f}')\n"
      ],
      "metadata": {
        "id": "RIK9JlzpLgou"
      },
      "execution_count": null,
      "outputs": []
    },
    {
      "cell_type": "markdown",
      "source": [
        "#### Conclusion for Task 12: Model Fine-Tuning\n",
        "\n",
        "The fine-tuning of the BERT model using the best hyperparameters (batch_size=32, epochs=3, and learning_rate=3e-05) yielded a significant improvement in performance across the epochs. Here's a summary of the results:\n",
        "\n",
        "Epoch 1: The training loss started at 0.9475, and the validation F1 score was 0.6656, indicating that the model initially struggled with generalization but showed potential for improvement.\n",
        "Epoch 2: After the second epoch, the training loss decreased to 0.5885, and the validation F1 score improved to 0.7817, showing that the model was learning effectively from the data and becoming more accurate in its predictions.\n",
        "Epoch 3: By the end of the third epoch, the training loss further dropped to 0.4126, and the validation F1 score reached 0.8359, demonstrating that the model had successfully fine-tuned and achieved a robust level of performance.\n",
        "Overall, the reduction in training loss over the epochs and the continuous increase in the validation F1 score (culminating at 0.8359) indicates that the model is well-optimized with the given hyperparameters and can make accurate predictions. This fine-tuned BERT model can now be used for downstream tasks with confidence in its effectiveness."
      ],
      "metadata": {
        "id": "x19mYx1hNPul"
      }
    },
    {
      "cell_type": "markdown",
      "source": [
        "### Step 5: Save the Best\n",
        "During the fine-tuning, if the validation F1 score improves after each epoch, you can save the model weights. You can modify the loop to save the best model:"
      ],
      "metadata": {
        "id": "QyXkWvh2MsCe"
      }
    },
    {
      "cell_type": "code",
      "source": [
        "best_f1 = 0  # Initialize a variable to keep track of the best F1 score\n",
        "\n",
        "for epoch in range(epochs):\n",
        "    print(f'Epoch {epoch + 1}/{epochs}')\n",
        "    model.train()  # Set model to training mode\n",
        "    total_train_loss = 0\n",
        "\n",
        "    # Train the model on batches\n",
        "    for batch in tqdm(dataloader_train):\n",
        "        model.zero_grad()\n",
        "        batch = tuple(b.to(device) for b in batch)\n",
        "        inputs = {'input_ids': batch[0], 'attention_mask': batch[1], 'labels': batch[2]}\n",
        "        outputs = model(**inputs)\n",
        "        loss = outputs[0]\n",
        "        total_train_loss += loss.item()\n",
        "        loss.backward()\n",
        "        optimizer.step()\n",
        "        scheduler.step()\n",
        "\n",
        "    avg_train_loss = total_train_loss / len(dataloader_train)\n",
        "    print(f\"Training loss: {avg_train_loss:.4f}\")\n",
        "\n",
        "    # Evaluate on the validation set after every epoch\n",
        "    val_loss, predictions, true_vals = evaluate(dataloader_val)\n",
        "    val_f1 = f1_score(true_vals, np.argmax(predictions, axis=1), average='weighted')\n",
        "    print(f'Validation F1 Score: {val_f1:.4f}')\n",
        "\n",
        "    # Save the model if it achieves a new best F1 score\n",
        "    if val_f1 > best_f1:\n",
        "        best_f1 = val_f1\n",
        "        torch.save(model.state_dict(), 'ModelsHPT/best_fine_tuned_model.pth')\n",
        "        print(f'Saving new best model with F1 Score: {best_f1:.4f}')\n"
      ],
      "metadata": {
        "id": "EgqjAoi2Lgm2"
      },
      "execution_count": null,
      "outputs": []
    },
    {
      "cell_type": "markdown",
      "source": [
        "## Task 13: Evaluate the Final Model\n",
        "\n",
        "To evaluate the fine-tuned model, we will use the same evaluate function that was defined earlier to assess the model's performance on the validation set. This will give us a final set of metrics, including the loss, F1 score, and other relevant metrics."
      ],
      "metadata": {
        "id": "4T_uFLKqOTyS"
      }
    },
    {
      "cell_type": "code",
      "source": [
        "# Load the best model if it was saved\n",
        "model.load_state_dict(torch.load('ModelsHPT/best_fine_tuned_model.pth'))\n",
        "model.to(device)\n"
      ],
      "metadata": {
        "id": "j7gvOjooLglN"
      },
      "execution_count": null,
      "outputs": []
    },
    {
      "cell_type": "code",
      "source": [
        "# Evaluate the final model on the validation set\n",
        "val_loss, predictions, true_vals = evaluate(dataloader_val)\n",
        "\n",
        "# Calculate F1 score\n",
        "final_f1 = f1_score(true_vals, np.argmax(predictions, axis=1), average='weighted')\n",
        "print(f'Final Validation F1 Score: {final_f1:.4f}')\n"
      ],
      "metadata": {
        "id": "JriVkR6GLgjg"
      },
      "execution_count": null,
      "outputs": []
    },
    {
      "cell_type": "code",
      "source": [
        "from sklearn.metrics import accuracy_score, precision_score, recall_score, confusion_matrix\n",
        "\n",
        "# Calculate accuracy\n",
        "accuracy = accuracy_score(true_vals, np.argmax(predictions, axis=1))\n",
        "print(f'Validation Accuracy: {accuracy:.4f}')\n",
        "\n",
        "# Calculate precision and recall\n",
        "precision = precision_score(true_vals, np.argmax(predictions, axis=1), average='weighted',zero_division=0)\n",
        "recall = recall_score(true_vals, np.argmax(predictions, axis=1), average='weighted')\n",
        "print(f'Validation Precision: {precision:.4f}')\n",
        "print(f'Validation Recall: {recall:.4f}')\n",
        "\n",
        "# Confusion Matrix\n",
        "conf_matrix = confusion_matrix(true_vals, np.argmax(predictions, axis=1))\n",
        "print(f'Confusion Matrix:\\n{conf_matrix}')\n"
      ],
      "metadata": {
        "id": "Aha5XwS6LghK"
      },
      "execution_count": null,
      "outputs": []
    },
    {
      "cell_type": "code",
      "source": [
        "import matplotlib.pyplot as plt\n",
        "import seaborn as sns\n",
        "from sklearn.metrics import confusion_matrix\n",
        "\n",
        "# Assuming true_vals and predictions are available\n",
        "cm = confusion_matrix(true_vals, np.argmax(predictions, axis=1))\n",
        "\n",
        "# Map label indices to actual class names\n",
        "labels = [key for key, value in sorted(label_dict.items(), key=lambda item: item[1])]\n",
        "\n",
        "plt.figure(figsize=(8, 6))\n",
        "sns.heatmap(cm, annot=True, fmt='d', cmap='Blues', xticklabels=labels, yticklabels=labels)\n",
        "plt.xlabel('Predicted')\n",
        "plt.ylabel('Actual')\n",
        "plt.title('Confusion Matrix')\n",
        "plt.show()\n"
      ],
      "metadata": {
        "id": "DsuOSZ0mLgew"
      },
      "execution_count": null,
      "outputs": []
    },
    {
      "cell_type": "markdown",
      "source": [
        "### Analysis of Validation Metrics\n",
        "Validation Accuracy: 0.8610\n",
        "This means that the model correctly classified 86.10% of the validation samples.\n",
        "\n",
        "Validation Precision: 0.8169\n",
        "Precision indicates the proportion of positive identifications that were actually correct. A precision of 81.69% suggests that when the model predicts a certain class, it is correct 81.69% of the time.\n",
        "\n",
        "Validation Recall: 0.8610\n",
        "Recall (also known as sensitivity) measures the proportion of actual positives that were correctly identified. A recall of 86.10% indicates that the model successfully identified 86.10% of all the true positive cases."
      ],
      "metadata": {
        "id": "fnuLyYzYPIlX"
      }
    },
    {
      "cell_type": "markdown",
      "source": [
        "### **Confusion Matrix Interpretation**\n",
        "\n",
        "The confusion matrix is a 6x6 matrix corresponding to 6 different classes. Each row represents the actual class, and each column represents the predicted class.\n",
        "\n",
        "```\n",
        "[[166   5   0   0   0   0]\n",
        " [ 10  22   0   0   0   0]\n",
        " [  2   3   4   0   0   0]\n",
        " [  1   0   0   0   0   0]\n",
        " [  3   1   1   0   0   0]\n",
        " [  2   3   0   0   0   0]]\n",
        "```\n",
        "\n",
        "| Index | Label         |\n",
        "|-------|---------------|\n",
        "|   0   | happy         |\n",
        "|   1   | not-relevant  |\n",
        "|   2   | angry         |\n",
        "|   3   | surprise      |\n",
        "|   4   | sad           |\n",
        "|   5   | disgust       |\n",
        "\n",
        "**Detailed Interpretation:**\n",
        "\n",
        "1. **Class 0 (happy):**\n",
        "   - **Correctly Predicted:** 166 instances\n",
        "   - **Misclassified as Class 1 (not-relevant):** 5 instances\n",
        "   - **Conclusion:** The model is performing very well in predicting 'happy' sentiments, with most instances correctly classified.\n",
        "\n",
        "2. **Class 1 (not-relevant):**\n",
        "   - **Correctly Predicted:** 22 instances\n",
        "   - **Misclassified as Class 0 (happy):** 10 instances\n",
        "   - **Conclusion:** There is some confusion between 'not-relevant' and 'happy' classes. The model tends to misclassify 'not-relevant' tweets as 'happy'.\n",
        "\n",
        "3. **Class 2 (angry):**\n",
        "   - **Correctly Predicted:** 4 instances\n",
        "   - **Misclassified as Class 0 (happy):** 2 instances\n",
        "   - **Misclassified as Class 1 (not-relevant):** 3 instances\n",
        "   - **Conclusion:** 'Angry' sentiments are often misclassified, possibly due to the small number of training examples for this class.\n",
        "\n",
        "4. **Class 3 (surprise):**\n",
        "   - **Correctly Predicted:** 0 instances\n",
        "   - **Misclassified as Class 0 (happy):** 1 instance\n",
        "   - **Conclusion:** The model fails to correctly predict 'surprise' sentiments.\n",
        "\n",
        "5. **Class 4 (sad):**\n",
        "   - **Correctly Predicted:** 0 instances\n",
        "   - **Misclassified as Class 0 (happy):** 3 instances\n",
        "   - **Misclassified as Class 1 (not-relevant):** 1 instance\n",
        "   - **Misclassified as Class 2 (angry):** 1 instance\n",
        "   - **Conclusion:** 'Sad' sentiments are not being correctly identified, indicating a need for more training data or better feature representation for this class.\n",
        "\n",
        "6. **Class 5 (disgust):**\n",
        "   - **Correctly Predicted:** 0 instances\n",
        "   - **Misclassified as Class 0 (happy):** 2 instances\n",
        "   - **Misclassified as Class 1 (not-relevant):** 3 instances\n",
        "   - **Conclusion:** Similar to 'sad' and 'surprise', the model struggles with 'disgust' sentiments.\n"
      ],
      "metadata": {
        "id": "TY1qmXlyPWiq"
      }
    },
    {
      "cell_type": "markdown",
      "source": [
        "## Task 14: Model Improvement\n",
        "In this task, we will focus on improving the model’s performance, particularly by addressing the imbalance in classes and fine-tuning the model for better results, especially on the minority classes."
      ],
      "metadata": {
        "id": "ns-OiA80RQjG"
      }
    },
    {
      "cell_type": "markdown",
      "source": [
        "The SMILE Twitter dataset likely contains an imbalance, with some classes being significantly underrepresented (e.g., 'surprise,' 'sad'). To improve performance on these minority classes, we will explore the following techniques:\n",
        "\n",
        "1. Weighted Loss Function: Adjust the loss function to pay more attention to underrepresented classes by assigning higher weights to these classes.\n",
        "2. Oversampling Minority Classes: Oversample the minority classes to ensure the model sees more examples during training.\n",
        "3. Data Augmentation: Apply augmentation techniques for text data, like synonym replacement, to generate more examples for underrepresented classes."
      ],
      "metadata": {
        "id": "btsBrQ-vRnIG"
      }
    },
    {
      "cell_type": "code",
      "source": [
        "#Step 1.1: Weighted Loss Function\n",
        "#We will use a weighted cross-entropy loss function to handle class imbalance:\n",
        "\n",
        "from sklearn.utils.class_weight import compute_class_weight\n",
        "\n",
        "# Compute class weights\n",
        "class_weights = compute_class_weight(\n",
        "    class_weight='balanced',\n",
        "    classes=np.unique(df['label']),\n",
        "    y=df['label']\n",
        ")\n",
        "\n",
        "class_weights = torch.tensor(class_weights, dtype=torch.float).to(device)\n",
        "\n",
        "# Define the loss function with class weights\n",
        "loss_fn = torch.nn.CrossEntropyLoss(weight=class_weights)\n"
      ],
      "metadata": {
        "id": "KfF7ZUmwLgbT"
      },
      "execution_count": null,
      "outputs": []
    },
    {
      "cell_type": "code",
      "source": [
        "# Step 1.2: Oversampling Minority Classes\n",
        "\n",
        "from imblearn.over_sampling import RandomOverSampler\n",
        "\n",
        "# Create an oversampler\n",
        "ros = RandomOverSampler(random_state=42)\n",
        "\n",
        "# Perform oversampling on the training data\n",
        "X_train_resampled, y_train_resampled = ros.fit_resample(X_train.reshape(-1, 1), y_train)\n",
        "X_train_resampled = X_train_resampled.flatten()\n",
        "\n",
        "# Update the DataLoader with the resampled data\n",
        "df_resampled = df.loc[X_train_resampled]\n"
      ],
      "metadata": {
        "id": "7-fgmbcxaFs2"
      },
      "execution_count": null,
      "outputs": []
    },
    {
      "cell_type": "code",
      "source": [
        "# Reinitialize the optimizer and scheduler\n",
        "optimizer = AdamW(model.parameters(), lr=3e-5, eps=1e-8)\n",
        "\n",
        "# Fine-tune the model with the new loss function\n",
        "for epoch in range(epochs):\n",
        "    model.train()\n",
        "    loss_train_total = 0\n",
        "\n",
        "    for batch in dataloader_train:\n",
        "        model.zero_grad()\n",
        "\n",
        "        # Move batch to device\n",
        "        batch = tuple(b.to(device) for b in batch)\n",
        "\n",
        "        inputs = {\n",
        "            'input_ids': batch[0],\n",
        "            'attention_mask': batch[1],\n",
        "            'labels': batch[2]\n",
        "        }\n",
        "\n",
        "        # Forward pass\n",
        "        outputs = model(**inputs)\n",
        "        loss = loss_fn(outputs[1], inputs['labels'])\n",
        "\n",
        "        # Backward pass and optimization\n",
        "        loss.backward()\n",
        "        torch.nn.utils.clip_grad_norm_(model.parameters(), 1.0)\n",
        "        optimizer.step()\n",
        "        scheduler.step()\n",
        "\n",
        "        loss_train_total += loss.item()\n",
        "\n",
        "    print(f\"Epoch {epoch+1}/{epochs}, Training loss: {loss_train_total / len(dataloader_train)}\")\n",
        "\n",
        "    # Validation step (reuse previous evaluation code)\n",
        "    val_loss, predictions, true_vals = evaluate(dataloader_val)\n",
        "    final_f1 = f1_score(true_vals, np.argmax(predictions, axis=1), average='weighted')\n",
        "    print(f'Validation F1 Score: {final_f1:.4f}')\n"
      ],
      "metadata": {
        "id": "wqD1nBP3aSVe"
      },
      "execution_count": null,
      "outputs": []
    },
    {
      "cell_type": "code",
      "source": [
        "from sklearn.metrics import precision_score, recall_score\n",
        "\n",
        "# Calculate macro-averaged precision and recall\n",
        "precision_macro = precision_score(true_vals, np.argmax(predictions, axis=1), average='macro')\n",
        "recall_macro = recall_score(true_vals, np.argmax(predictions, axis=1), average='macro')\n",
        "\n",
        "print(f'Macro-averaged Precision: {precision_macro:.4f}')\n",
        "print(f'Macro-averaged Recall: {recall_macro:.4f}')\n"
      ],
      "metadata": {
        "id": "RUdmcEIyaWln"
      },
      "execution_count": null,
      "outputs": []
    },
    {
      "cell_type": "code",
      "source": [
        "from nlpaug.augmenter.word import SynonymAug\n",
        "\n",
        "# Initialize synonym augmenter\n",
        "aug = SynonymAug(aug_src='wordnet')\n",
        "\n",
        "# Augment text data for minority classes\n",
        "augmented_texts = [aug.augment(text) for text in df[df['label'].isin(minority_classes)]['text']]\n",
        "\n",
        "# Add augmented data to the original dataset\n",
        "df_augmented = df.append(pd.DataFrame({'text': augmented_texts, 'label': minority_labels}), ignore_index=True)\n"
      ],
      "metadata": {
        "id": "ezxmMqVwaXxJ"
      },
      "execution_count": null,
      "outputs": []
    },
    {
      "cell_type": "markdown",
      "source": [
        "## Task 15: Save the Final Model and create an inference function for future predictions"
      ],
      "metadata": {
        "id": "4NrUoEIpjAMW"
      }
    },
    {
      "cell_type": "code",
      "source": [
        "import os\n",
        "# Save the model and tokenizer\n",
        "output_dir = 'Models/final_model/'\n",
        "\n",
        "if not os.path.exists(output_dir):\n",
        "    os.makedirs(output_dir)\n",
        "\n",
        "print(f\"Saving model to {output_dir}\")\n",
        "\n",
        "# Save the fine-tuned model\n",
        "model.save_pretrained(output_dir)\n",
        "tokenizer.save_pretrained(output_dir)\n",
        "\n",
        "# Save the training arguments (if any)\n",
        "torch.save(optimizer.state_dict(), os.path.join(output_dir, 'optimizer.pt'))\n",
        "torch.save(scheduler.state_dict(), os.path.join(output_dir, 'scheduler.pt'))\n"
      ],
      "metadata": {
        "id": "P726DbAmjEKy"
      },
      "execution_count": null,
      "outputs": []
    },
    {
      "cell_type": "code",
      "source": [
        "# Inference Function\n",
        "def predict(text, model, tokenizer, max_length=128):\n",
        "    \"\"\"\n",
        "    This function takes a piece of text and returns the predicted label.\n",
        "\n",
        "    Args:\n",
        "    - text: The input text for prediction.\n",
        "    - model: The fine-tuned model to be used for prediction.\n",
        "    - tokenizer: The tokenizer corresponding to the model.\n",
        "    - max_length: Maximum length for padding/truncation (default=128).\n",
        "\n",
        "    Returns:\n",
        "    - predicted_label: The label predicted by the model for the given text.\n",
        "    \"\"\"\n",
        "\n",
        "    # Tokenize input text\n",
        "    inputs = tokenizer.encode_plus(\n",
        "        text,\n",
        "        add_special_tokens=True,\n",
        "        max_length=max_length,\n",
        "        padding='max_length',\n",
        "        return_attention_mask=True,\n",
        "        return_tensors='pt',\n",
        "        truncation=True\n",
        "    )\n",
        "\n",
        "    # Move inputs to device (GPU/CPU)\n",
        "    input_ids = inputs['input_ids'].to(device)\n",
        "    attention_mask = inputs['attention_mask'].to(device)\n",
        "\n",
        "    # Put the model in evaluation mode\n",
        "    model.eval()\n",
        "\n",
        "    with torch.no_grad():\n",
        "        outputs = model(input_ids, attention_mask=attention_mask)\n",
        "\n",
        "    logits = outputs[0]\n",
        "    prediction = torch.argmax(logits, dim=1).item()\n",
        "\n",
        "    # Map the predicted label index to the actual label name\n",
        "    label_mapping = {0: 'anger', 1: 'fear', 2: 'happy', 3: 'love', 4: 'sadness', 5: 'surprise'}\n",
        "    predicted_label = label_mapping[prediction]\n",
        "\n",
        "    return predicted_label\n"
      ],
      "metadata": {
        "id": "VYi80N5RjEJP"
      },
      "execution_count": null,
      "outputs": []
    },
    {
      "cell_type": "code",
      "source": [
        "# Sample Usage\n",
        "\n",
        "# Load the saved model and tokenizer\n",
        "loaded_model = BertForSequenceClassification.from_pretrained('./final_model/')\n",
        "loaded_tokenizer = BertTokenizer.from_pretrained('./final_model/')\n",
        "loaded_model.to(device)\n",
        "\n",
        "# Example text input for prediction\n",
        "sample_text = \"I am feeling very happy today!\"\n",
        "\n",
        "# Predict the sentiment/emotion label\n",
        "predicted_label = predict(sample_text, loaded_model, loaded_tokenizer)\n",
        "print(f'Predicted label: {predicted_label}')\n"
      ],
      "metadata": {
        "id": "3JGbE1qnjEG1"
      },
      "execution_count": null,
      "outputs": []
    },
    {
      "cell_type": "code",
      "source": [
        "# Future Inference with New Data\n",
        "def predict_on_new_data(new_data_list, model, tokenizer):\n",
        "    \"\"\"\n",
        "    Predict labels for a list of new data.\n",
        "\n",
        "    Args:\n",
        "    - new_data_list: List of input texts for prediction.\n",
        "    - model: The fine-tuned model to be used for prediction.\n",
        "    - tokenizer: The tokenizer corresponding to the model.\n",
        "\n",
        "    Returns:\n",
        "    - List of predicted labels.\n",
        "    \"\"\"\n",
        "    predictions = []\n",
        "    for text in new_data_list:\n",
        "        predicted_label = predict(text, model, tokenizer)\n",
        "        predictions.append(predicted_label)\n",
        "\n",
        "    return predictions\n",
        "\n",
        "\n",
        "# Example list of new texts\n",
        "new_data = [\n",
        "    \"I am so excited for this!\",\n",
        "    \"I feel scared and anxious about the future.\",\n",
        "    \"It's a sad day.\"\n",
        "]\n",
        "\n",
        "# Predict labels for new data\n",
        "predicted_labels = predict_on_new_data(new_data, loaded_model, loaded_tokenizer)\n",
        "print(predicted_labels)\n",
        "\n"
      ],
      "metadata": {
        "id": "R6fFIoP4j5Nu"
      },
      "execution_count": null,
      "outputs": []
    },
    {
      "cell_type": "markdown",
      "source": [
        "## Task 16 : Visualization of Results."
      ],
      "metadata": {
        "id": "_9D5ypESiVko"
      }
    },
    {
      "cell_type": "code",
      "source": [
        "from sklearn.metrics import confusion_matrix\n",
        "import seaborn as sns\n",
        "import matplotlib.pyplot as plt\n",
        "\n",
        "# Generate predictions\n",
        "preds = np.argmax(predictions, axis=1)\n",
        "\n",
        "# Generate confusion matrix\n",
        "conf_matrix = confusion_matrix(true_vals, preds)\n",
        "\n",
        "# Plot confusion matrix\n",
        "plt.figure(figsize=(10, 8))\n",
        "sns.heatmap(conf_matrix, annot=True, fmt='d', cmap='Blues', xticklabels=label_names, yticklabels=label_names)\n",
        "plt.xlabel('Predicted Labels')\n",
        "plt.ylabel('True Labels')\n",
        "plt.title('Confusion Matrix')\n",
        "plt.show()\n"
      ],
      "metadata": {
        "id": "EXnR2Pt6iQM8"
      },
      "execution_count": null,
      "outputs": []
    },
    {
      "cell_type": "code",
      "source": [
        "from sklearn.metrics import classification_report\n",
        "\n",
        "# Generate classification report\n",
        "class_report = classification_report(true_vals, preds, target_names=label_names)\n",
        "\n",
        "# Display classification report\n",
        "print(\"Classification Report:\\n\")\n",
        "print(class_report)\n"
      ],
      "metadata": {
        "id": "cyZP-fH_icSo"
      },
      "execution_count": null,
      "outputs": []
    },
    {
      "cell_type": "code",
      "source": [
        "import torch\n",
        "from torch.utils.data import DataLoader\n",
        "\n",
        "# Tokenize the validation data\n",
        "val_encodings = tokenizer(val_texts, truncation=True, padding=True, max_length=512)\n",
        "\n",
        "# Define a dataset class\n",
        "class EmotionDataset(torch.utils.data.Dataset):\n",
        "    def __init__(self, encodings, labels):\n",
        "        self.encodings = encodings\n",
        "        self.labels = labels\n",
        "\n",
        "    def __getitem__(self, idx):\n",
        "        item = {key: torch.tensor(val[idx]) for key, val in self.encodings.items()}\n",
        "        item['labels'] = torch.tensor(self.labels[idx])\n",
        "        return item\n",
        "\n",
        "    def __len__(self):\n",
        "        return len(self.labels)\n",
        "\n",
        "# Create the validation dataset\n",
        "val_dataset = EmotionDataset(val_encodings, val_labels)\n",
        "\n",
        "# Create the validation dataloader\n",
        "validation_dataloader = DataLoader(val_dataset, batch_size=32, shuffle=False)\n"
      ],
      "metadata": {
        "id": "bdVJZrillIdQ"
      },
      "execution_count": null,
      "outputs": []
    },
    {
      "cell_type": "code",
      "source": [
        "from sklearn.metrics import classification_report, confusion_matrix\n",
        "import seaborn as sns\n",
        "import matplotlib.pyplot as plt\n",
        "\n",
        "# Function to evaluate the model and get predictions\n",
        "def get_predictions_and_labels(dataloader, model):\n",
        "    \"\"\"\n",
        "    Get model predictions and true labels from the validation dataloader.\n",
        "\n",
        "    Args:\n",
        "    - dataloader: The validation dataloader.\n",
        "    - model: The fine-tuned model to be evaluated.\n",
        "\n",
        "    Returns:\n",
        "    - y_pred: Predicted labels.\n",
        "    - y_true: True labels.\n",
        "    \"\"\"\n",
        "    model.eval()\n",
        "    y_pred = []\n",
        "    y_true = []\n",
        "\n",
        "    with torch.no_grad():\n",
        "        for batch in dataloader:\n",
        "            input_ids = batch['input_ids'].to(device)\n",
        "            attention_mask = batch['attention_mask'].to(device)\n",
        "            labels = batch['labels'].to(device)\n",
        "\n",
        "            outputs = model(input_ids, attention_mask=attention_mask)\n",
        "            logits = outputs.logits\n",
        "            predictions = torch.argmax(logits, dim=1).cpu().numpy()\n",
        "            y_pred.extend(predictions)\n",
        "            y_true.extend(labels.cpu().numpy())\n",
        "\n",
        "    return y_pred, y_true\n",
        "\n",
        "# Get predictions and true labels from the validation dataloader\n",
        "y_pred, y_true = get_predictions_and_labels(validation_dataloader, model)\n"
      ],
      "metadata": {
        "id": "bl_ymh09korM"
      },
      "execution_count": null,
      "outputs": []
    },
    {
      "cell_type": "code",
      "source": [
        "# Generate confusion matrix\n",
        "conf_matrix = confusion_matrix(y_true, y_pred)\n",
        "\n",
        "# Define class labels (as per the task)\n",
        "labels = ['anger', 'fear', 'happy', 'love', 'sadness', 'surprise']\n",
        "\n",
        "# Plot confusion matrix using seaborn\n",
        "plt.figure(figsize=(10, 8))\n",
        "sns.heatmap(conf_matrix, annot=True, fmt='d', cmap='Blues', xticklabels=labels, yticklabels=labels)\n",
        "plt.title(\"Confusion Matrix\")\n",
        "plt.xlabel(\"Predicted Labels\")\n",
        "plt.ylabel(\"True Labels\")\n",
        "plt.show()\n"
      ],
      "metadata": {
        "id": "u9_J9u2_kvDn"
      },
      "execution_count": null,
      "outputs": []
    },
    {
      "cell_type": "code",
      "source": [
        "import numpy as np\n",
        "\n",
        "# Convert the classification report into a dictionary\n",
        "from sklearn.metrics import classification_report\n",
        "report_dict = classification_report(y_true, y_pred, target_names=labels, output_dict=True)\n",
        "\n",
        "# Extract precision, recall, and f1-score for each class\n",
        "precision = [report_dict[label]['precision'] for label in labels]\n",
        "recall = [report_dict[label]['recall'] for label in labels]\n",
        "f1_score = [report_dict[label]['f1-score'] for label in labels]\n",
        "\n",
        "# Create a bar plot to visualize these metrics\n",
        "x = np.arange(len(labels))  # Label locations\n",
        "\n",
        "width = 0.25  # Width of the bars\n",
        "\n",
        "# Plotting the bar chart\n",
        "plt.figure(figsize=(12, 6))\n",
        "plt.bar(x - width, precision, width, label='Precision')\n",
        "plt.bar(x, recall, width, label='Recall')\n",
        "plt.bar(x + width, f1_score, width, label='F1-Score')\n",
        "\n",
        "# Add labels and title\n",
        "plt.ylabel('Scores')\n",
        "plt.title('Precision, Recall, and F1-Score by Class')\n",
        "plt.xticks(x, labels)\n",
        "plt.legend()\n",
        "\n",
        "plt.show()\n"
      ],
      "metadata": {
        "id": "Qfi2hkaIk320"
      },
      "execution_count": null,
      "outputs": []
    },
    {
      "cell_type": "markdown",
      "source": [],
      "metadata": {
        "id": "fDy1I6HElKdi"
      }
    },
    {
      "cell_type": "markdown",
      "source": [
        "## Task 18: Error Analysis"
      ],
      "metadata": {
        "id": "E7QlW3F-lyYA"
      }
    },
    {
      "cell_type": "code",
      "source": [
        "# Identify incorrect predictions\n",
        "incorrect_indices = [i for i, (true, pred) in enumerate(zip(y_true, y_pred)) if true != pred]\n",
        "\n",
        "# Print out the total number of incorrect predictions\n",
        "print(f\"Total incorrect predictions: {len(incorrect_indices)}\")\n"
      ],
      "metadata": {
        "id": "yI01UHuEl2JJ"
      },
      "execution_count": null,
      "outputs": []
    },
    {
      "cell_type": "code",
      "source": [
        "# Plot confusion matrix again for reference\n",
        "plt.figure(figsize=(10, 8))\n",
        "sns.heatmap(conf_matrix, annot=True, fmt='d', cmap='Blues', xticklabels=labels, yticklabels=labels)\n",
        "plt.title(\"Confusion Matrix\")\n",
        "plt.xlabel(\"Predicted Labels\")\n",
        "plt.ylabel(\"True Labels\")\n",
        "plt.show()\n",
        "\n",
        "# Insights based on confusion matrix:\n",
        "# - Diagonal elements are correct predictions.\n",
        "# - Off-diagonal elements indicate where the model is confused between classes.\n"
      ],
      "metadata": {
        "id": "050QsDKjl2mL"
      },
      "execution_count": null,
      "outputs": []
    },
    {
      "cell_type": "code",
      "source": [
        "# Example: Check which class gets confused with 'sadness' the most\n",
        "confusion_with_sadness = conf_matrix[labels.index('sadness')]\n",
        "\n",
        "# Print misclassifications for 'sadness'\n",
        "for i, count in enumerate(confusion_with_sadness):\n",
        "    if i != labels.index('sadness') and count > 0:\n",
        "        print(f\"'sadness' confused with '{labels[i]}' {count} times.\")\n"
      ],
      "metadata": {
        "id": "oz6Yo_oSl2ig"
      },
      "execution_count": null,
      "outputs": []
    },
    {
      "cell_type": "code",
      "source": [],
      "metadata": {
        "id": "bMQKAcMrl2fY"
      },
      "execution_count": null,
      "outputs": []
    }
  ],
  "metadata": {
    "kernelspec": {
      "display_name": "Python 3",
      "name": "python3"
    },
    "language_info": {
      "codemirror_mode": {
        "name": "ipython",
        "version": 3
      },
      "file_extension": ".py",
      "mimetype": "text/x-python",
      "name": "python",
      "nbconvert_exporter": "python",
      "pygments_lexer": "ipython3",
      "version": "3.10.6"
    },
    "colab": {
      "provenance": [],
      "collapsed_sections": [
        "q7QxA1D5kQ7s",
        "2BTK8Q0mkQ7t",
        "bCFtasyikQ7u",
        "YC4HixRjkQ7x",
        "PaAuEeu2kQ7y",
        "Bu9X4X-pkQ7z",
        "2MWBXDadkQ70",
        "NXHAWQV1kQ72",
        "LkA7ZuOKkQ73",
        "2K_h1uMmkQ74",
        "wWaaF9HmkQ78",
        "H_svfLJYpluf",
        "4T_uFLKqOTyS",
        "ns-OiA80RQjG",
        "4NrUoEIpjAMW"
      ]
    },
    "widgets": {
      "application/vnd.jupyter.widget-state+json": {
        "912d0888f36e4477b94a3add3ed29ee1": {
          "model_module": "@jupyter-widgets/controls",
          "model_name": "HBoxModel",
          "model_module_version": "1.5.0",
          "state": {
            "_dom_classes": [],
            "_model_module": "@jupyter-widgets/controls",
            "_model_module_version": "1.5.0",
            "_model_name": "HBoxModel",
            "_view_count": null,
            "_view_module": "@jupyter-widgets/controls",
            "_view_module_version": "1.5.0",
            "_view_name": "HBoxView",
            "box_style": "",
            "children": [
              "IPY_MODEL_b17cfb5b4e8949f3a71b0030eed91837",
              "IPY_MODEL_18a263d8544b4b98945b250adad49cd0",
              "IPY_MODEL_4bb7fe2214db48ab93fb31e941ec3f1b"
            ],
            "layout": "IPY_MODEL_c49f8cd4ebc44b9686cbcfe4b740f514"
          }
        },
        "b17cfb5b4e8949f3a71b0030eed91837": {
          "model_module": "@jupyter-widgets/controls",
          "model_name": "HTMLModel",
          "model_module_version": "1.5.0",
          "state": {
            "_dom_classes": [],
            "_model_module": "@jupyter-widgets/controls",
            "_model_module_version": "1.5.0",
            "_model_name": "HTMLModel",
            "_view_count": null,
            "_view_module": "@jupyter-widgets/controls",
            "_view_module_version": "1.5.0",
            "_view_name": "HTMLView",
            "description": "",
            "description_tooltip": null,
            "layout": "IPY_MODEL_38f173e60e994beb99b499452b282e7f",
            "placeholder": "​",
            "style": "IPY_MODEL_3ed7eeebe8f2449b84a4a4e0ddba59a9",
            "value": "  0%"
          }
        },
        "18a263d8544b4b98945b250adad49cd0": {
          "model_module": "@jupyter-widgets/controls",
          "model_name": "FloatProgressModel",
          "model_module_version": "1.5.0",
          "state": {
            "_dom_classes": [],
            "_model_module": "@jupyter-widgets/controls",
            "_model_module_version": "1.5.0",
            "_model_name": "FloatProgressModel",
            "_view_count": null,
            "_view_module": "@jupyter-widgets/controls",
            "_view_module_version": "1.5.0",
            "_view_name": "ProgressView",
            "bar_style": "",
            "description": "",
            "description_tooltip": null,
            "layout": "IPY_MODEL_92f5547476744cec842841b8269b55b2",
            "max": 4,
            "min": 0,
            "orientation": "horizontal",
            "style": "IPY_MODEL_f6e3fd64efba4f5e82004b7488299259",
            "value": 0
          }
        },
        "4bb7fe2214db48ab93fb31e941ec3f1b": {
          "model_module": "@jupyter-widgets/controls",
          "model_name": "HTMLModel",
          "model_module_version": "1.5.0",
          "state": {
            "_dom_classes": [],
            "_model_module": "@jupyter-widgets/controls",
            "_model_module_version": "1.5.0",
            "_model_name": "HTMLModel",
            "_view_count": null,
            "_view_module": "@jupyter-widgets/controls",
            "_view_module_version": "1.5.0",
            "_view_name": "HTMLView",
            "description": "",
            "description_tooltip": null,
            "layout": "IPY_MODEL_bc2791da53a04fdf8f37cb602d84a211",
            "placeholder": "​",
            "style": "IPY_MODEL_dc0bc98bfe0f48f099ad181f790f6f0d",
            "value": " 0/4 [00:00&lt;?, ?it/s]"
          }
        },
        "c49f8cd4ebc44b9686cbcfe4b740f514": {
          "model_module": "@jupyter-widgets/base",
          "model_name": "LayoutModel",
          "model_module_version": "1.2.0",
          "state": {
            "_model_module": "@jupyter-widgets/base",
            "_model_module_version": "1.2.0",
            "_model_name": "LayoutModel",
            "_view_count": null,
            "_view_module": "@jupyter-widgets/base",
            "_view_module_version": "1.2.0",
            "_view_name": "LayoutView",
            "align_content": null,
            "align_items": null,
            "align_self": null,
            "border": null,
            "bottom": null,
            "display": null,
            "flex": null,
            "flex_flow": null,
            "grid_area": null,
            "grid_auto_columns": null,
            "grid_auto_flow": null,
            "grid_auto_rows": null,
            "grid_column": null,
            "grid_gap": null,
            "grid_row": null,
            "grid_template_areas": null,
            "grid_template_columns": null,
            "grid_template_rows": null,
            "height": null,
            "justify_content": null,
            "justify_items": null,
            "left": null,
            "margin": null,
            "max_height": null,
            "max_width": null,
            "min_height": null,
            "min_width": null,
            "object_fit": null,
            "object_position": null,
            "order": null,
            "overflow": null,
            "overflow_x": null,
            "overflow_y": null,
            "padding": null,
            "right": null,
            "top": null,
            "visibility": null,
            "width": null
          }
        },
        "38f173e60e994beb99b499452b282e7f": {
          "model_module": "@jupyter-widgets/base",
          "model_name": "LayoutModel",
          "model_module_version": "1.2.0",
          "state": {
            "_model_module": "@jupyter-widgets/base",
            "_model_module_version": "1.2.0",
            "_model_name": "LayoutModel",
            "_view_count": null,
            "_view_module": "@jupyter-widgets/base",
            "_view_module_version": "1.2.0",
            "_view_name": "LayoutView",
            "align_content": null,
            "align_items": null,
            "align_self": null,
            "border": null,
            "bottom": null,
            "display": null,
            "flex": null,
            "flex_flow": null,
            "grid_area": null,
            "grid_auto_columns": null,
            "grid_auto_flow": null,
            "grid_auto_rows": null,
            "grid_column": null,
            "grid_gap": null,
            "grid_row": null,
            "grid_template_areas": null,
            "grid_template_columns": null,
            "grid_template_rows": null,
            "height": null,
            "justify_content": null,
            "justify_items": null,
            "left": null,
            "margin": null,
            "max_height": null,
            "max_width": null,
            "min_height": null,
            "min_width": null,
            "object_fit": null,
            "object_position": null,
            "order": null,
            "overflow": null,
            "overflow_x": null,
            "overflow_y": null,
            "padding": null,
            "right": null,
            "top": null,
            "visibility": null,
            "width": null
          }
        },
        "3ed7eeebe8f2449b84a4a4e0ddba59a9": {
          "model_module": "@jupyter-widgets/controls",
          "model_name": "DescriptionStyleModel",
          "model_module_version": "1.5.0",
          "state": {
            "_model_module": "@jupyter-widgets/controls",
            "_model_module_version": "1.5.0",
            "_model_name": "DescriptionStyleModel",
            "_view_count": null,
            "_view_module": "@jupyter-widgets/base",
            "_view_module_version": "1.2.0",
            "_view_name": "StyleView",
            "description_width": ""
          }
        },
        "92f5547476744cec842841b8269b55b2": {
          "model_module": "@jupyter-widgets/base",
          "model_name": "LayoutModel",
          "model_module_version": "1.2.0",
          "state": {
            "_model_module": "@jupyter-widgets/base",
            "_model_module_version": "1.2.0",
            "_model_name": "LayoutModel",
            "_view_count": null,
            "_view_module": "@jupyter-widgets/base",
            "_view_module_version": "1.2.0",
            "_view_name": "LayoutView",
            "align_content": null,
            "align_items": null,
            "align_self": null,
            "border": null,
            "bottom": null,
            "display": null,
            "flex": null,
            "flex_flow": null,
            "grid_area": null,
            "grid_auto_columns": null,
            "grid_auto_flow": null,
            "grid_auto_rows": null,
            "grid_column": null,
            "grid_gap": null,
            "grid_row": null,
            "grid_template_areas": null,
            "grid_template_columns": null,
            "grid_template_rows": null,
            "height": null,
            "justify_content": null,
            "justify_items": null,
            "left": null,
            "margin": null,
            "max_height": null,
            "max_width": null,
            "min_height": null,
            "min_width": null,
            "object_fit": null,
            "object_position": null,
            "order": null,
            "overflow": null,
            "overflow_x": null,
            "overflow_y": null,
            "padding": null,
            "right": null,
            "top": null,
            "visibility": null,
            "width": null
          }
        },
        "f6e3fd64efba4f5e82004b7488299259": {
          "model_module": "@jupyter-widgets/controls",
          "model_name": "ProgressStyleModel",
          "model_module_version": "1.5.0",
          "state": {
            "_model_module": "@jupyter-widgets/controls",
            "_model_module_version": "1.5.0",
            "_model_name": "ProgressStyleModel",
            "_view_count": null,
            "_view_module": "@jupyter-widgets/base",
            "_view_module_version": "1.2.0",
            "_view_name": "StyleView",
            "bar_color": null,
            "description_width": ""
          }
        },
        "bc2791da53a04fdf8f37cb602d84a211": {
          "model_module": "@jupyter-widgets/base",
          "model_name": "LayoutModel",
          "model_module_version": "1.2.0",
          "state": {
            "_model_module": "@jupyter-widgets/base",
            "_model_module_version": "1.2.0",
            "_model_name": "LayoutModel",
            "_view_count": null,
            "_view_module": "@jupyter-widgets/base",
            "_view_module_version": "1.2.0",
            "_view_name": "LayoutView",
            "align_content": null,
            "align_items": null,
            "align_self": null,
            "border": null,
            "bottom": null,
            "display": null,
            "flex": null,
            "flex_flow": null,
            "grid_area": null,
            "grid_auto_columns": null,
            "grid_auto_flow": null,
            "grid_auto_rows": null,
            "grid_column": null,
            "grid_gap": null,
            "grid_row": null,
            "grid_template_areas": null,
            "grid_template_columns": null,
            "grid_template_rows": null,
            "height": null,
            "justify_content": null,
            "justify_items": null,
            "left": null,
            "margin": null,
            "max_height": null,
            "max_width": null,
            "min_height": null,
            "min_width": null,
            "object_fit": null,
            "object_position": null,
            "order": null,
            "overflow": null,
            "overflow_x": null,
            "overflow_y": null,
            "padding": null,
            "right": null,
            "top": null,
            "visibility": null,
            "width": null
          }
        },
        "dc0bc98bfe0f48f099ad181f790f6f0d": {
          "model_module": "@jupyter-widgets/controls",
          "model_name": "DescriptionStyleModel",
          "model_module_version": "1.5.0",
          "state": {
            "_model_module": "@jupyter-widgets/controls",
            "_model_module_version": "1.5.0",
            "_model_name": "DescriptionStyleModel",
            "_view_count": null,
            "_view_module": "@jupyter-widgets/base",
            "_view_module_version": "1.2.0",
            "_view_name": "StyleView",
            "description_width": ""
          }
        },
        "4d9fd90047d44fe089e6e256ab2807a0": {
          "model_module": "@jupyter-widgets/controls",
          "model_name": "HBoxModel",
          "model_module_version": "1.5.0",
          "state": {
            "_dom_classes": [],
            "_model_module": "@jupyter-widgets/controls",
            "_model_module_version": "1.5.0",
            "_model_name": "HBoxModel",
            "_view_count": null,
            "_view_module": "@jupyter-widgets/controls",
            "_view_module_version": "1.5.0",
            "_view_name": "HBoxView",
            "box_style": "",
            "children": [
              "IPY_MODEL_4da4caec69e448029ffaeec532942250",
              "IPY_MODEL_1c3dc73d499e49c19d39d09dabbd8e3f",
              "IPY_MODEL_1b04e0a93a61463aa0e637f11d28b049"
            ],
            "layout": "IPY_MODEL_b10b7ae0acf9416399ab2f04eea61df9"
          }
        },
        "4da4caec69e448029ffaeec532942250": {
          "model_module": "@jupyter-widgets/controls",
          "model_name": "HTMLModel",
          "model_module_version": "1.5.0",
          "state": {
            "_dom_classes": [],
            "_model_module": "@jupyter-widgets/controls",
            "_model_module_version": "1.5.0",
            "_model_name": "HTMLModel",
            "_view_count": null,
            "_view_module": "@jupyter-widgets/controls",
            "_view_module_version": "1.5.0",
            "_view_name": "HTMLView",
            "description": "",
            "description_tooltip": null,
            "layout": "IPY_MODEL_be25d2aadfad441e8df77f2e80a5a49c",
            "placeholder": "​",
            "style": "IPY_MODEL_ee73a1c951824f4987ea566b05e6f1d7",
            "value": "Epoch1:   0%"
          }
        },
        "1c3dc73d499e49c19d39d09dabbd8e3f": {
          "model_module": "@jupyter-widgets/controls",
          "model_name": "FloatProgressModel",
          "model_module_version": "1.5.0",
          "state": {
            "_dom_classes": [],
            "_model_module": "@jupyter-widgets/controls",
            "_model_module_version": "1.5.0",
            "_model_name": "FloatProgressModel",
            "_view_count": null,
            "_view_module": "@jupyter-widgets/controls",
            "_view_module_version": "1.5.0",
            "_view_name": "ProgressView",
            "bar_style": "",
            "description": "",
            "description_tooltip": null,
            "layout": "IPY_MODEL_815a26231cb24e1b8c5c79d45c9ed615",
            "max": 40,
            "min": 0,
            "orientation": "horizontal",
            "style": "IPY_MODEL_a09f3529c37744faa8dc0d4272099f68",
            "value": 0
          }
        },
        "1b04e0a93a61463aa0e637f11d28b049": {
          "model_module": "@jupyter-widgets/controls",
          "model_name": "HTMLModel",
          "model_module_version": "1.5.0",
          "state": {
            "_dom_classes": [],
            "_model_module": "@jupyter-widgets/controls",
            "_model_module_version": "1.5.0",
            "_model_name": "HTMLModel",
            "_view_count": null,
            "_view_module": "@jupyter-widgets/controls",
            "_view_module_version": "1.5.0",
            "_view_name": "HTMLView",
            "description": "",
            "description_tooltip": null,
            "layout": "IPY_MODEL_4bc0163466bc4504bec4f89c1249f31f",
            "placeholder": "​",
            "style": "IPY_MODEL_f94e62ea82b94a969950f2db1ec20ce1",
            "value": " 0/40 [00:00&lt;?, ?it/s]"
          }
        },
        "b10b7ae0acf9416399ab2f04eea61df9": {
          "model_module": "@jupyter-widgets/base",
          "model_name": "LayoutModel",
          "model_module_version": "1.2.0",
          "state": {
            "_model_module": "@jupyter-widgets/base",
            "_model_module_version": "1.2.0",
            "_model_name": "LayoutModel",
            "_view_count": null,
            "_view_module": "@jupyter-widgets/base",
            "_view_module_version": "1.2.0",
            "_view_name": "LayoutView",
            "align_content": null,
            "align_items": null,
            "align_self": null,
            "border": null,
            "bottom": null,
            "display": null,
            "flex": null,
            "flex_flow": null,
            "grid_area": null,
            "grid_auto_columns": null,
            "grid_auto_flow": null,
            "grid_auto_rows": null,
            "grid_column": null,
            "grid_gap": null,
            "grid_row": null,
            "grid_template_areas": null,
            "grid_template_columns": null,
            "grid_template_rows": null,
            "height": null,
            "justify_content": null,
            "justify_items": null,
            "left": null,
            "margin": null,
            "max_height": null,
            "max_width": null,
            "min_height": null,
            "min_width": null,
            "object_fit": null,
            "object_position": null,
            "order": null,
            "overflow": null,
            "overflow_x": null,
            "overflow_y": null,
            "padding": null,
            "right": null,
            "top": null,
            "visibility": null,
            "width": null
          }
        },
        "be25d2aadfad441e8df77f2e80a5a49c": {
          "model_module": "@jupyter-widgets/base",
          "model_name": "LayoutModel",
          "model_module_version": "1.2.0",
          "state": {
            "_model_module": "@jupyter-widgets/base",
            "_model_module_version": "1.2.0",
            "_model_name": "LayoutModel",
            "_view_count": null,
            "_view_module": "@jupyter-widgets/base",
            "_view_module_version": "1.2.0",
            "_view_name": "LayoutView",
            "align_content": null,
            "align_items": null,
            "align_self": null,
            "border": null,
            "bottom": null,
            "display": null,
            "flex": null,
            "flex_flow": null,
            "grid_area": null,
            "grid_auto_columns": null,
            "grid_auto_flow": null,
            "grid_auto_rows": null,
            "grid_column": null,
            "grid_gap": null,
            "grid_row": null,
            "grid_template_areas": null,
            "grid_template_columns": null,
            "grid_template_rows": null,
            "height": null,
            "justify_content": null,
            "justify_items": null,
            "left": null,
            "margin": null,
            "max_height": null,
            "max_width": null,
            "min_height": null,
            "min_width": null,
            "object_fit": null,
            "object_position": null,
            "order": null,
            "overflow": null,
            "overflow_x": null,
            "overflow_y": null,
            "padding": null,
            "right": null,
            "top": null,
            "visibility": null,
            "width": null
          }
        },
        "ee73a1c951824f4987ea566b05e6f1d7": {
          "model_module": "@jupyter-widgets/controls",
          "model_name": "DescriptionStyleModel",
          "model_module_version": "1.5.0",
          "state": {
            "_model_module": "@jupyter-widgets/controls",
            "_model_module_version": "1.5.0",
            "_model_name": "DescriptionStyleModel",
            "_view_count": null,
            "_view_module": "@jupyter-widgets/base",
            "_view_module_version": "1.2.0",
            "_view_name": "StyleView",
            "description_width": ""
          }
        },
        "815a26231cb24e1b8c5c79d45c9ed615": {
          "model_module": "@jupyter-widgets/base",
          "model_name": "LayoutModel",
          "model_module_version": "1.2.0",
          "state": {
            "_model_module": "@jupyter-widgets/base",
            "_model_module_version": "1.2.0",
            "_model_name": "LayoutModel",
            "_view_count": null,
            "_view_module": "@jupyter-widgets/base",
            "_view_module_version": "1.2.0",
            "_view_name": "LayoutView",
            "align_content": null,
            "align_items": null,
            "align_self": null,
            "border": null,
            "bottom": null,
            "display": null,
            "flex": null,
            "flex_flow": null,
            "grid_area": null,
            "grid_auto_columns": null,
            "grid_auto_flow": null,
            "grid_auto_rows": null,
            "grid_column": null,
            "grid_gap": null,
            "grid_row": null,
            "grid_template_areas": null,
            "grid_template_columns": null,
            "grid_template_rows": null,
            "height": null,
            "justify_content": null,
            "justify_items": null,
            "left": null,
            "margin": null,
            "max_height": null,
            "max_width": null,
            "min_height": null,
            "min_width": null,
            "object_fit": null,
            "object_position": null,
            "order": null,
            "overflow": null,
            "overflow_x": null,
            "overflow_y": null,
            "padding": null,
            "right": null,
            "top": null,
            "visibility": null,
            "width": null
          }
        },
        "a09f3529c37744faa8dc0d4272099f68": {
          "model_module": "@jupyter-widgets/controls",
          "model_name": "ProgressStyleModel",
          "model_module_version": "1.5.0",
          "state": {
            "_model_module": "@jupyter-widgets/controls",
            "_model_module_version": "1.5.0",
            "_model_name": "ProgressStyleModel",
            "_view_count": null,
            "_view_module": "@jupyter-widgets/base",
            "_view_module_version": "1.2.0",
            "_view_name": "StyleView",
            "bar_color": null,
            "description_width": ""
          }
        },
        "4bc0163466bc4504bec4f89c1249f31f": {
          "model_module": "@jupyter-widgets/base",
          "model_name": "LayoutModel",
          "model_module_version": "1.2.0",
          "state": {
            "_model_module": "@jupyter-widgets/base",
            "_model_module_version": "1.2.0",
            "_model_name": "LayoutModel",
            "_view_count": null,
            "_view_module": "@jupyter-widgets/base",
            "_view_module_version": "1.2.0",
            "_view_name": "LayoutView",
            "align_content": null,
            "align_items": null,
            "align_self": null,
            "border": null,
            "bottom": null,
            "display": null,
            "flex": null,
            "flex_flow": null,
            "grid_area": null,
            "grid_auto_columns": null,
            "grid_auto_flow": null,
            "grid_auto_rows": null,
            "grid_column": null,
            "grid_gap": null,
            "grid_row": null,
            "grid_template_areas": null,
            "grid_template_columns": null,
            "grid_template_rows": null,
            "height": null,
            "justify_content": null,
            "justify_items": null,
            "left": null,
            "margin": null,
            "max_height": null,
            "max_width": null,
            "min_height": null,
            "min_width": null,
            "object_fit": null,
            "object_position": null,
            "order": null,
            "overflow": null,
            "overflow_x": null,
            "overflow_y": null,
            "padding": null,
            "right": null,
            "top": null,
            "visibility": null,
            "width": null
          }
        },
        "f94e62ea82b94a969950f2db1ec20ce1": {
          "model_module": "@jupyter-widgets/controls",
          "model_name": "DescriptionStyleModel",
          "model_module_version": "1.5.0",
          "state": {
            "_model_module": "@jupyter-widgets/controls",
            "_model_module_version": "1.5.0",
            "_model_name": "DescriptionStyleModel",
            "_view_count": null,
            "_view_module": "@jupyter-widgets/base",
            "_view_module_version": "1.2.0",
            "_view_name": "StyleView",
            "description_width": ""
          }
        }
      }
    }
  },
  "nbformat": 4,
  "nbformat_minor": 0
}